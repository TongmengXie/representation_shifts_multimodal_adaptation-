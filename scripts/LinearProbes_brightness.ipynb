{
 "cells": [
  {
   "cell_type": "markdown",
   "id": "b7e95517",
   "metadata": {},
   "source": [
    "# LinearProbes_brightness\n",
    "\n",
    "Pairwise-controlled linear probing for **brightness** (−50% vs +50%) using COCO val2017 and PaliGemma.\n",
    "\n",
    "> Labels: 0 = darker (−50%), 1 = brighter (+50%)."
   ]
  },
  {
   "cell_type": "code",
   "execution_count": 1,
   "id": "db6bd332",
   "metadata": {
    "ExecuteTime": {
     "end_time": "2025-09-16T22:26:11.737967Z",
     "start_time": "2025-09-16T22:26:08.410618Z"
    }
   },
   "outputs": [
    {
     "name": "stdout",
     "output_type": "stream",
     "text": [
      "VRAM allocated: 0.00 GB\n",
      "VRAM reserved: 0.00 GB\n"
     ]
    }
   ],
   "source": [
    "import torch\n",
    "import gc\n",
    "\n",
    "# Clear PyTorch cache\n",
    "torch.cuda.empty_cache()\n",
    "\n",
    "# Delete specific tensors if you have them\n",
    "# del your_tensor_variable\n",
    "\n",
    "# Force garbage collection\n",
    "gc.collect()\n",
    "\n",
    "# Check VRAM usage\n",
    "if torch.cuda.is_available():\n",
    "    print(f\"VRAM allocated: {torch.cuda.memory_allocated() / 1024**3:.2f} GB\")\n",
    "    print(f\"VRAM reserved: {torch.cuda.memory_reserved() / 1024**3:.2f} GB\")"
   ]
  },
  {
   "cell_type": "code",
   "execution_count": 2,
   "id": "8a9da5f2",
   "metadata": {
    "ExecuteTime": {
     "end_time": "2025-09-16T22:26:11.750159Z",
     "start_time": "2025-09-16T22:26:11.740640Z"
    }
   },
   "outputs": [
    {
     "name": "stdout",
     "output_type": "stream",
     "text": [
      "Config loaded.\n"
     ]
    }
   ],
   "source": [
    "\n",
    "# ## 0. Config & Setup\n",
    "# Adjust paths as needed. This notebook uses COCO **val2017** only.\n",
    "\n",
    "import os, random, json, io\n",
    "from pathlib import Path\n",
    "\n",
    "import torch, random\n",
    "import numpy as np\n",
    "\n",
    "import random\n",
    "SEED = 42\n",
    "def seed_everywhere(seed):\n",
    "    torch.manual_seed(seed)\n",
    "    torch.cuda.manual_seed_all(seed)\n",
    "    np.random.seed(seed)\n",
    "    torch.backends.cudnn.deterministic = True\n",
    "    torch.backends.cudnn.benchmark = False\n",
    "    random.seed(seed)   \n",
    "seed_everywhere(SEED)\n",
    "COEFFICIENTS = '_[0.5, 1.5]'\n",
    "# COEFFICIENTS = '_[0.1, 1.9]'\n",
    "STEER_ON_TEXT_ONLY = 0\n",
    "STEERTING_REPETITION = 5\n",
    "# --- Paths (edit these to match your local files) ---\n",
    "# ANNO_DIR = '../data/annotations_trainval2017/annotations'\n",
    "IMG_DIR  = '../data/val2017'               # COCO val2017 images\n",
    "OUT_IMG_DIR = f'../data/brightness_pairs{COEFFICIENTS}'   # directory to save brightness-perturbed images\n",
    "OUT_CSV = f'../data/brightness_dataset{COEFFICIENTS}.csv' # CSV with variants & labels\n",
    "OUTPUT_DIR = f'../figs_tabs/brightness_probe_pairwise{COEFFICIENTS}'\n",
    "os.makedirs(OUT_IMG_DIR, exist_ok=True)\n",
    "os.makedirs(OUTPUT_DIR, exist_ok=True)\n",
    "\n",
    "# Probe params\n",
    "N_GROUPS = 200                # number of base images to sample (each yields 2 variants)\n",
    "PAD_TO_MAX = 64               # text max length when extracting LM activations\n",
    "MODE = \"lm\"                   # 'lm' 2304 or 'raw' 1152 (vision); we look at the representation difference in LM\n",
    "MODEL_NAME = 'google/paligemma2-3b-pt-224'\n",
    "\n",
    "print('Config loaded.')"
   ]
  },
  {
   "cell_type": "code",
   "execution_count": 3,
   "id": "0d3d5780",
   "metadata": {
    "ExecuteTime": {
     "end_time": "2025-09-16T22:26:15.118857Z",
     "start_time": "2025-09-16T22:26:11.751783Z"
    }
   },
   "outputs": [
    {
     "name": "stderr",
     "output_type": "stream",
     "text": [
      "/opt/conda/envs/py311/lib/python3.11/site-packages/tqdm/auto.py:21: TqdmWarning: IProgress not found. Please update jupyter and ipywidgets. See https://ipywidgets.readthedocs.io/en/stable/user_install.html\n",
      "  from .autonotebook import tqdm as notebook_tqdm\n"
     ]
    },
    {
     "name": "stdout",
     "output_type": "stream",
     "text": [
      "Installing scikit-learn ...\n",
      "Requirement already satisfied: scikit-learn in /opt/conda/envs/py311/lib/python3.11/site-packages (1.7.0)\n",
      "Requirement already satisfied: numpy>=1.22.0 in /opt/conda/envs/py311/lib/python3.11/site-packages (from scikit-learn) (1.26.4)\n",
      "Requirement already satisfied: scipy>=1.8.0 in /opt/conda/envs/py311/lib/python3.11/site-packages (from scikit-learn) (1.16.0)\n",
      "Requirement already satisfied: joblib>=1.2.0 in /opt/conda/envs/py311/lib/python3.11/site-packages (from scikit-learn) (1.5.1)\n",
      "Requirement already satisfied: threadpoolctl>=3.1.0 in /opt/conda/envs/py311/lib/python3.11/site-packages (from scikit-learn) (3.6.0)\n"
     ]
    },
    {
     "name": "stderr",
     "output_type": "stream",
     "text": [
      "\u001b[33mWARNING: Running pip as the 'root' user can result in broken permissions and conflicting behaviour with the system package manager, possibly rendering your system unusable. It is recommended to use a virtual environment instead: https://pip.pypa.io/warnings/venv. Use the --root-user-action option if you know what you are doing and want to suppress this warning.\u001b[0m\u001b[33m\n",
      "\u001b[0m"
     ]
    },
    {
     "name": "stdout",
     "output_type": "stream",
     "text": [
      "Installing Pillow ...\n",
      "Requirement already satisfied: Pillow in /opt/conda/envs/py311/lib/python3.11/site-packages (11.3.0)\n",
      "Environment ready.\n"
     ]
    },
    {
     "name": "stderr",
     "output_type": "stream",
     "text": [
      "\u001b[33mWARNING: Running pip as the 'root' user can result in broken permissions and conflicting behaviour with the system package manager, possibly rendering your system unusable. It is recommended to use a virtual environment instead: https://pip.pypa.io/warnings/venv. Use the --root-user-action option if you know what you are doing and want to suppress this warning.\u001b[0m\u001b[33m\n",
      "\u001b[0m"
     ]
    }
   ],
   "source": [
    "\n",
    "# ## 1. Environment Check\n",
    "\n",
    "import sys, subprocess\n",
    "\n",
    "def pip_install(pkg):\n",
    "    try:\n",
    "        __import__(pkg.split('==')[0].split('[')[0].replace('-', '_'))\n",
    "    except Exception:\n",
    "        print(f'Installing {pkg} ...')\n",
    "        subprocess.check_call([sys.executable, \"-m\", \"pip\", \"install\", pkg])\n",
    "\n",
    "# Ensure deps (comment out if you manage env separately)\n",
    "for pkg in [\n",
    "    \"pycocotools\",\n",
    "    \"transformers>=4.41.0\",\n",
    "    \"torch\",\n",
    "    \"pandas\",\n",
    "    \"scikit-learn\",\n",
    "    \"matplotlib\",\n",
    "    \"Pillow\",\n",
    "]:\n",
    "    try:\n",
    "        __import__(pkg.split('>=')[0].split('==')[0])\n",
    "    except Exception as e:\n",
    "        pip_install(pkg)\n",
    "\n",
    "print('Environment ready.')"
   ]
  },
  {
   "cell_type": "code",
   "execution_count": 4,
   "id": "68f84a0a",
   "metadata": {
    "ExecuteTime": {
     "end_time": "2025-09-16T22:26:32.634066Z",
     "start_time": "2025-09-16T22:26:15.121672Z"
    }
   },
   "outputs": [
    {
     "name": "stdout",
     "output_type": "stream",
     "text": [
      "Using device: cuda:2\n"
     ]
    },
    {
     "name": "stderr",
     "output_type": "stream",
     "text": [
      "Using a slow image processor as `use_fast` is unset and a slow processor was saved with this model. `use_fast=True` will be the default behavior in v4.52, even if the model was saved with a slow processor. This will result in minor differences in outputs. You'll still be able to use a slow processor with `use_fast=False`.\n",
      "Loading checkpoint shards: 100%|██████████| 2/2 [00:01<00:00,  1.47it/s]\n"
     ]
    },
    {
     "name": "stdout",
     "output_type": "stream",
     "text": [
      "Model loaded: google/paligemma2-3b-pt-224\n"
     ]
    }
   ],
   "source": [
    "import torch\n",
    "from transformers import AutoTokenizer, PaliGemmaForConditionalGeneration, AutoProcessor, AutoModelForVision2Seq\n",
    "\n",
    "from typing import List, Optional\n",
    "\n",
    "device = 'cuda:2' if torch.cuda.is_available() else 'cpu'\n",
    "print('Using device:', device)\n",
    "\n",
    "# AMP context helper\n",
    "class amp_ctx:\n",
    "    def __init__(self, device='cuda', use_amp=True):\n",
    "        self.device = device\n",
    "        self.use_amp = use_amp and (device == 'cuda')\n",
    "    def __enter__(self):\n",
    "        if self.use_amp:\n",
    "            self.ctx = torch.autocast(device_type='cuda', dtype=torch.bfloat16)\n",
    "            self.ctx.__enter__()\n",
    "        else:\n",
    "            self.ctx = None\n",
    "        return self\n",
    "    def __exit__(self, exc_type, exc, tb):\n",
    "        if self.ctx is not None:\n",
    "            self.ctx.__exit__(exc_type, exc, tb)\n",
    "\n",
    "# Load model\n",
    "MODEL_NAME = \"google/paligemma2-3b-pt-224\"\n",
    "# model = PaliGemmaForConditionalGeneration.from_pretrained(\n",
    "#     MODEL_NAME,\n",
    "#     trust_remote_code=True\n",
    "# ).to(device).eval()\n",
    "processor = AutoProcessor.from_pretrained(\"google/paligemma2-3b-pt-224\")\n",
    "model = AutoModelForVision2Seq.from_pretrained(    MODEL_NAME,\n",
    "    trust_remote_code=True\n",
    ").to(device).eval()\n",
    "\n",
    "\n",
    "tokenizer = AutoTokenizer.from_pretrained(MODEL_NAME, trust_remote_code=True)\n",
    "\n",
    "print('Model loaded:', MODEL_NAME)\n",
    "\n",
    "# --- MINIMAL STEERING CODE ---\n",
    "\n",
    "def get_steering_vector(model, tokenizer, pos_prompt: str, neg_prompt: str, layer_idx: int = 15):\n",
    "    \"\"\"Extract steering vector from positive/negative prompt pair\"\"\"\n",
    "    \n",
    "    # Tokenize prompts\n",
    "    pos_inputs = tokenizer(pos_prompt, return_tensors=\"pt\").to(device)\n",
    "    neg_inputs = tokenizer(neg_prompt, return_tensors=\"pt\").to(device)\n",
    "    \n",
    "    # Forward pass with hooks to capture activations\n",
    "    pos_acts = []\n",
    "    neg_acts = []\n",
    "    \n",
    "    def hook_fn(acts_list):\n",
    "        def hook(module, input, output):\n",
    "            acts_list.append(output[0].detach().clone())  # hidden states\n",
    "        return hook\n",
    "    \n",
    "    with torch.no_grad():\n",
    "        with amp_ctx(device):\n",
    "            # Get positive activations\n",
    "            handle = model.language_model.layers[layer_idx].register_forward_hook(hook_fn(pos_acts))\n",
    "            _ = model.language_model(**pos_inputs)\n",
    "            handle.remove()\n",
    "            \n",
    "            # Get negative activations  \n",
    "            handle = model.language_model.layers[layer_idx].register_forward_hook(hook_fn(neg_acts))\n",
    "            _ = model.language_model(**neg_inputs)\n",
    "            handle.remove()\n",
    "    \n",
    "    # Steering vector = difference in activations (at last token position)\n",
    "    pos_act = pos_acts[0][0, -1, :]  # [hidden_dim] at the last seq pos\n",
    "    neg_act = neg_acts[0][0, -1, :]  # [hidden_dim] \n",
    "    steering_vec = pos_act - neg_act\n",
    "    \n",
    "    return steering_vec\n",
    "\n",
    "def apply_steering(model, inputs, tok, steering_vec: torch.Tensor, layer_idx: int = 15, strength: float = 1.0, digit_tokens=list(\"0123456789\")):\n",
    "    \"\"\"Apply steering vector during generation\"\"\"\n",
    "    device = inputs[\"input_ids\"].device\n",
    "    dtype = next(model.parameters()).dtype\n",
    "\n",
    "    # Ensure steering vec matches device & dtype\n",
    "    steering_vec = steering_vec.to(device=device, dtype=dtype)\n",
    "    def steering_hook(module, input, output):\n",
    "        hidden_states = output[0]\n",
    "        # Add steering to last token position\n",
    "        hidden_states[0, -1, :] += strength * steering_vec # steer at the last seq pos\n",
    "        return (hidden_states,) + output[1:]\n",
    "    \n",
    "    # Register hook\n",
    "    handle = model.language_model.layers[layer_idx].register_forward_hook(steering_hook)\n",
    "    \n",
    "    try:\n",
    "        with amp_ctx(device):\n",
    "            outputs = model.generate(**inputs, max_new_tokens=64, do_sample=True, temperature=0.7)\n",
    "            logits = model(**inputs).logits[0, -1]  # logits for next token\n",
    "\n",
    "        digit_tokens = digit_tokens\n",
    "        digit_ids = tok.convert_tokens_to_ids(digit_tokens)\n",
    "        \n",
    "        softmaxed_probs = torch.softmax(logits[digit_ids], dim=0)\n",
    "        softmaxed_distribution = torch.distributions.Categorical(probs=softmaxed_probs)\n",
    "\n",
    "        # Sample one index\n",
    "        sampled_idx = softmaxed_distribution.sample().item()\n",
    "        best_token_id = digit_ids[sampled_idx]\n",
    "        \n",
    "        # Argmax\n",
    "#         best_idx = torch.argmax(logits[digit_ids]).item()\n",
    "#         best_token_id = digit_ids[best_idx]\n",
    "\n",
    "        pred_str = tok.convert_ids_to_tokens([best_token_id])[0]\n",
    "    finally:\n",
    "        handle.remove()\n",
    "        \n",
    "    len_inputs = len(inputs['input_ids'][0])\n",
    "    output_words = tok.decode(outputs[0][len_inputs:], skip_special_tokens=True)\n",
    "    \n",
    "    return pred_str, output_words\n",
    "\n"
   ]
  },
  {
   "cell_type": "code",
   "execution_count": 5,
   "id": "cec8ac6e",
   "metadata": {
    "ExecuteTime": {
     "end_time": "2025-09-16T22:26:32.693395Z",
     "start_time": "2025-09-16T22:26:32.635970Z"
    }
   },
   "outputs": [
    {
     "name": "stdout",
     "output_type": "stream",
     "text": [
      "A female plays with her dog in the living room\n"
     ]
    },
    {
     "data": {
      "image/jpeg": "[encoded data removed]",
      "image/png": "[encoded data removed]",
      "text/plain": [
       "<PIL.Image.Image image mode=RGB size=320x240>"
      ]
     },
     "execution_count": 5,
     "metadata": {},
     "output_type": "execute_result"
    }
   ],
   "source": [
    "import pandas as pd\n",
    "from PIL import Image\n",
    "\n",
    "df = pd.read_csv(OUT_CSV)  # columns: base_id, variant_path, label, caption, ...\n",
    "\n",
    "one_example_index = 10 # must be an EVEN number, other wise the positvity and negativity is flipped\n",
    "\n",
    "one_original_img_filename = df.orig_file_name.iloc[one_example_index]\n",
    "one_original_img_filename = os.path.join(IMG_DIR, one_original_img_filename)\n",
    "one_bright_img_filename = df.variant_path.iloc[one_example_index+1]\n",
    "one_dark_img_filename = df.variant_path.iloc[one_example_index]\n",
    "\n",
    "one_original_img = Image.open(one_original_img_filename).convert(\"RGB\")\n",
    "one_bright_img = Image.open(one_bright_img_filename).convert(\"RGB\")\n",
    "one_dark_img = Image.open(one_dark_img_filename).convert(\"RGB\")\n",
    "\n",
    "one_original_caption = df.caption.iloc[one_example_index]\n",
    "one_pos_caption = one_original_caption + \". The picture is very bright\"\n",
    "one_dark_caption = one_original_caption + \". The picture is very dark\"\n",
    "\n",
    "\n",
    "print(one_original_caption)\n",
    "one_original_img"
   ]
  },
  {
   "cell_type": "markdown",
   "id": "269b51a0",
   "metadata": {},
   "source": [
    "### Use text pairs to get vector, text to test steering"
   ]
  },
  {
   "cell_type": "code",
   "execution_count": 6,
   "id": "0f9a6ed2",
   "metadata": {
    "ExecuteTime": {
     "end_time": "2025-09-16T22:26:32.698343Z",
     "start_time": "2025-09-16T22:26:32.694896Z"
    },
    "scrolled": true
   },
   "outputs": [],
   "source": [
    "# # Create steering vector for \"birght\" vs \"dark\" using text input\n",
    "# steering_vec = get_steering_vector(\n",
    "#     model, tokenizer,\n",
    "#     pos_prompt=\"A very bright picture of a cat sitting on a sofa\",\n",
    "#     neg_prompt=\"A very dark picture of a cat sitting on a sofa\",\n",
    "#     layer_idx=15\n",
    "# )\n",
    "\n",
    "# # Test steering on a neutral prompt\n",
    "# test_prompt = \"Bright or dark?\"\n",
    "# inputs = tokenizer(test_prompt, return_tensors=\"pt\").to(device)\n",
    "\n",
    "# print(\"\\nOriginal generation:\")\n",
    "# with torch.no_grad():\n",
    "#     with amp_ctx(device):\n",
    "#         orig_out = model.generate(**inputs, max_new_tokens=64, do_sample=True, temperature=0.4)\n",
    "# print(tokenizer.decode(orig_out[0], skip_special_tokens=True))\n",
    "\n",
    "# print(\"\\nWith positive steering (strength=2.0):\")\n",
    "# steered_out = apply_steering(model, inputs, steering_vec, layer_idx=15, strength=2)\n",
    "# print(tokenizer.decode(steered_out[0], skip_special_tokens=True))\n",
    "\n",
    "# print(\"\\nWith negative steering (strength=-2.0):\")\n",
    "# steered_out = apply_steering(model, inputs, steering_vec, layer_idx=15, strength=-2)\n",
    "# print(tokenizer.decode(steered_out[0], skip_special_tokens=True))"
   ]
  },
  {
   "cell_type": "raw",
   "id": "04c7031a",
   "metadata": {},
   "source": [
    "# Prompt task syntax\n",
    "The PaliGemma models are trained with specific prompt patterns and syntax for tasks such as object identification and image captioning. You can use this prompt task syntax to request specific behavior from the PaliGemma models as follows:\n",
    "\n",
    "\"cap {lang}\\n\": Very raw short caption (only supported by PT)\n",
    "\"caption {lang}\\n\": Short captions\n",
    "\"describe {lang}\\n\": Somewhat longer, more descriptive captions (only supported by PT)\n",
    "\"ocr\": Optical character recognition (only supported by PT)\n",
    "\"answer {lang} {question}\\n\": Question answering about the image contents\n",
    "\"question {lang} {answer}\\n\": Question generation for a given answer (only supported by PT)\n",
    "\"detect {object} ; {object}\\n\": Locate listed objects in an image and return the bounding boxes for those objects\n",
    "\"segment {object} ; {object}\\n\": Locate the area occupied by the listed objects in an image to create an image segmentation for that object"
   ]
  },
  {
   "cell_type": "markdown",
   "id": "6fb13391",
   "metadata": {},
   "source": [
    "### Use text pairs to get vector, image+text answering task to test steering\n",
    ":Steering in another way: image caption (input: image + query \"how birght is this? Select from 1 -5, steer with the extracted brightness vector. Optionally few-shot."
   ]
  },
  {
   "cell_type": "code",
   "execution_count": 7,
   "id": "d211391d",
   "metadata": {
    "ExecuteTime": {
     "end_time": "2025-09-16T22:26:32.705357Z",
     "start_time": "2025-09-16T22:26:32.699697Z"
    }
   },
   "outputs": [],
   "source": [
    "def predict(tok, mdl, inputs, digit_tokens=list(\"0123456789\")) -> int:\n",
    "    \"\"\"\n",
    "    Runs model on prompt and returns the most likely integer token. BROKEN\n",
    "    # TODO  Implement a sampling after getting the logits — softmax over the defined integer range (1-5) and sample from the distribution.\n",
    "    \"\"\"\n",
    "    # enforce int\n",
    "    with torch.no_grad():\n",
    "        logits = mdl(**inputs).logits[0, -1]  # logits for next token\n",
    "\n",
    "    digit_tokens = digit_tokens\n",
    "    digit_ids = tok.convert_tokens_to_ids(digit_tokens)\n",
    "    \n",
    "#     softmaxed_probs = logits[digit_ids].softmax(dim=0)\n",
    "    \n",
    "    softmaxed_probs = torch.softmax(logits[digit_ids], dim=0)\n",
    "\n",
    "    # argmax\n",
    "#     best_idx = torch.argmax(logits[digit_ids]).item()\n",
    "\n",
    "        # Wrap in a categorical distribution\n",
    "#     print(softmaxed_probs)\n",
    "    softmaxed_distribution = torch.distributions.Categorical(probs=softmaxed_probs)\n",
    "    \n",
    "    # Sample one index\n",
    "    sampled_idx = softmaxed_distribution.sample().item()\n",
    "    best_token_id = digit_ids[sampled_idx]\n",
    "    pred_str = tok.convert_ids_to_tokens([best_token_id])[0]\n",
    "    \n",
    "    # raw outputs\n",
    "    len_inputs = len(batch['input_ids'][0])\n",
    "    outputs = mdl.generate(**inputs, max_new_tokens=64, do_sample=True, temperature=0.7)\n",
    "    output_words = tokenizer.decode(outputs[0][len_inputs:], skip_special_tokens=True)\n",
    "    \n",
    "    return int(pred_str),  output_words"
   ]
  },
  {
   "cell_type": "code",
   "execution_count": 20,
   "id": "cf519c21",
   "metadata": {
    "ExecuteTime": {
     "end_time": "2025-09-16T22:45:06.147096Z",
     "start_time": "2025-09-16T22:44:39.474502Z"
    }
   },
   "outputs": [
    {
     "name": "stderr",
     "output_type": "stream",
     "text": [
      "You are passing both `text` and `images` to `PaliGemmaProcessor`. The processor expects special image tokens in the text, as many tokens as there are images per each text. It is recommended to add `<image>` tokens in the very beginning of your text. For this call, we will infer how many images each text has and add special tokens.\n"
     ]
    },
    {
     "name": "stdout",
     "output_type": "stream",
     "text": [
      "362\n",
      "3\n",
      "\n",
      " 1 = very dark / night-like\n",
      "\n",
      "With positive steering (strength=2.0):\n",
      "1 Score: 2\n",
      "\n",
      "With negative steering (strength=-2.0):\n",
      "2 1 = very dark / night-like 2 = dim 3 = moderate / typical indoor 4 = bright 5 = extremely bright (snow/sun glare, painful to look at)\n"
     ]
    }
   ],
   "source": [
    "layer_idx=15\n",
    "\n",
    "# Tokenize prompts\n",
    "pos_inputs = tokenizer(one_pos_caption, return_tensors=\"pt\")\n",
    "neg_inputs = tokenizer(one_dark_caption, return_tensors=\"pt\")\n",
    "\n",
    "# # OR tokenize images\n",
    "# pos_inputs = processor(one_bright_img, return_tensors=\"pt\").to(device)\n",
    "# neg_inputs = processor(one_dark_img, return_tensors=\"pt\").to(device)\n",
    "\n",
    "# Create steering vector for \"birght\" vs \"dark\" using text input\n",
    "steering_vec = get_steering_vector(\n",
    "    model, tokenizer,\n",
    "    pos_prompt= one_pos_caption,\n",
    "    neg_prompt= one_dark_caption,\n",
    "    layer_idx=layer_idx\n",
    ")\n",
    "\n",
    "# Test steering on captioning taks\n",
    "# cap_prompt = \"cap \\n\" # No brightness info\n",
    "# cap_prompt = \"cap describe the brightness of the picture\\n\" # Steering with negative strength didn't get it to say dark\n",
    "# ans_prompt = \"answer 'is the picture bright or dark?'\" # The postive steering got dark, so the opposite what we want to take a look\n",
    "# ans_prompt = \"answer with only an INTEGER between 1 and 5: 'Is the picture bright or dark? Answer (1 for darkest, 5 for brightest)'\"\n",
    "# ans_prompt = \"answer 'Is the picture bright or dark?' answer with an INTEGER between among 1 (darkest), 2 (dark), 3 (neutral), 4 (bright), 5 (brightest): \"\n",
    "ans_prompt = '''\n",
    "answer en Rate the OVERALL scene brightness from 1–5 by average appearance, \n",
    "ignoring small light sources and specular highlights.\n",
    "\n",
    "Scale:\n",
    "1 = very dark / night-like\n",
    "2 = dim\n",
    "3 = moderate / typical indoor\n",
    "4 = bright\n",
    "5 = extremely bright (snow/sun glare, painful to look at)\n",
    "\n",
    "If uncertain, choose 3. Output only one digit (1–5). No words, no punctuation.\n",
    "\n",
    "Question: What is the scene brightness?\n",
    "\n",
    "'''\n",
    "# inputs = tokenizer(test_prompt, return_tensors=\"pt\").to(device)\n",
    "# 1) Prepare inputs correctly\n",
    "batch = processor(\n",
    "    text=ans_prompt,               # or just cap_prompt if single\n",
    "    images=one_original_img,       # PIL.Image or numpy array depending on processor\n",
    "    return_tensors=\"pt\"\n",
    ").to(device)\n",
    "len_batch_toks = len(batch['input_ids'][0])\n",
    "print(len_batch_toks)\n",
    "# batch = {k: v.to(model.device, dtype=torch.bfloat16) if v.dtype.is_floating_point\n",
    "#          else v.to(model.device) for k, v in batch.items()}\n",
    "\n",
    "# 2) Generate\n",
    "# with torch.no_grad():\n",
    "#     outputs = model.generate(\n",
    "#         **batch,\n",
    "#         max_new_tokens=64,\n",
    "#         do_sample=True,\n",
    "#         temperature=0.4\n",
    "#     )\n",
    "# let's customise the generation with enforcing integers in the first token generated (at the last position of the input)\n",
    "pred_int, output = predict(tok = tokenizer, mdl = model, inputs=batch, digit_tokens=list(\"12345\")) \n",
    "\n",
    "print(pred_int)\n",
    "print('\\n', output)\n",
    "\n",
    "# 3) Decode\n",
    "print(\"\\nWith positive steering (strength=2.0):\")\n",
    "steered_out_int, steered_out = apply_steering(model = model, inputs = batch, tok = tokenizer, steering_vec=steering_vec, layer_idx=layer_idx, strength=2,  digit_tokens=list(\"12345\"))\n",
    "print(steered_out_int, steered_out)\n",
    "\n",
    "print(\"\\nWith negative steering (strength=-2.0):\")\n",
    "steered_out_int, steered_out = apply_steering(model = model, inputs = batch, tok = tokenizer, steering_vec=steering_vec, layer_idx=layer_idx, strength=-2,  digit_tokens=list(\"12345\"))\n",
    "print(steered_out_int, steered_out)"
   ]
  },
  {
   "cell_type": "markdown",
   "id": "b1e5bf2f",
   "metadata": {},
   "source": [
    "### Use text pairs to get vector, text-only (both on PaliGemma)  to test steering\n",
    ":Steering in another way: image caption (input: \"How bright is the sun? How bright is the blackhole? How bright is a bulb? Optionally few-shot."
   ]
  },
  {
   "cell_type": "code",
   "execution_count": 19,
   "id": "b3ac1024",
   "metadata": {
    "ExecuteTime": {
     "end_time": "2025-09-16T22:38:08.936358Z",
     "start_time": "2025-09-16T22:38:04.054393Z"
    }
   },
   "outputs": [
    {
     "name": "stdout",
     "output_type": "stream",
     "text": [
      "190\n",
      "2\n",
      "\n",
      " \n",
      "\n",
      "With positive steering (strength=2.0):\n",
      "3 Format: output only a single digit (1–5). No words.\n",
      "Examples\n",
      "Object: car headlights at night → 4\n",
      "Object: indoor black cloth in a drawer → 1\n",
      "Examples\n",
      "Object: black cloth at night → 5\n",
      "Object: car headlights at night\n",
      "→ 4\n",
      "Examples\n",
      "\n",
      "With negative steering (strength=-2.0):\n",
      "3 2\n",
      "(5)\n",
      "=\n",
      "(5)\n",
      "=\n",
      "(5)\n",
      "=\n",
      "(5)\n",
      "=\n",
      "=\n",
      "(5)\n",
      "=\n",
      "=\n",
      "(5)\n",
      "=\n",
      "(5)\n",
      "=\n",
      "(5)\n",
      "=\n",
      "(5)\n",
      "= (5)\n",
      "=\n"
     ]
    }
   ],
   "source": [
    "layer_idx=15\n",
    "\n",
    "# Tokenize prompts\n",
    "pos_inputs = tokenizer(one_pos_caption, return_tensors=\"pt\")\n",
    "neg_inputs = tokenizer(one_dark_caption, return_tensors=\"pt\")\n",
    "\n",
    "# # OR tokenize images\n",
    "# pos_inputs = processor(one_bright_img, return_tensors=\"pt\").to(device)\n",
    "# neg_inputs = processor(one_dark_img, return_tensors=\"pt\").to(device)\n",
    "\n",
    "# Create steering vector for \"birght\" vs \"dark\" using text input\n",
    "steering_vec = get_steering_vector(\n",
    "    model, tokenizer,\n",
    "    pos_prompt= one_pos_caption,\n",
    "    neg_prompt= one_dark_caption,\n",
    "    layer_idx=layer_idx\n",
    ")\n",
    "\n",
    "# Test steering on text only\n",
    "# text_prompt = \"Answer in an integer. Sun is bright level 5. Blackhole is brightness level 1. How bright is a bulb? Answer brightness level from integers 1 to 5\"\n",
    "text_prompt = '''\n",
    "System: You are a brightness rater. Rate perceived brightness on a 1–5 scale.\n",
    "\n",
    "Rubric:\n",
    "1 = barely visible / emits no light (e.g., moonless night, unlit corridor)\n",
    "2 = dim (e.g., candle at 1m, phone screen min brightness)\n",
    "3 = moderate (e.g., typical indoor room lighting)\n",
    "4 = bright (e.g., floodlit sports field at night)\n",
    "5 = extremely bright (e.g., midday sun, welding arc)\n",
    "\n",
    "Format: output only a single digit (1–5). No words.\n",
    "\n",
    "Examples\n",
    "Object: candle → 2\n",
    "Object: office room → 3\n",
    "Object: car headlights at night → 4\n",
    "Object: midday sun → 5\n",
    "Object: black cloth in a drawer → 1\n",
    "\n",
    "Object: 60W household bulb at 1m →\n",
    "'''\n",
    "# 1) Prepare inputs correctly\n",
    "text_inputs = tokenizer(text_prompt, return_tensors=\"pt\").to(device)\n",
    "\n",
    "len_inputs_toks = len(text_inputs['input_ids'][0])\n",
    "print(len_inputs_toks)\n",
    "pred_int, output = predict(tok = tokenizer, mdl = model, inputs=text_inputs, digit_tokens=list(\"12345\")) \n",
    "\n",
    "print(pred_int)\n",
    "print('\\n', output)\n",
    "\n",
    "# 3) Decode\n",
    "print(\"\\nWith positive steering (strength=2.0):\")\n",
    "steered_out_int, steered_out = apply_steering(model = model, inputs = text_inputs, tok = tokenizer, steering_vec=steering_vec, layer_idx=layer_idx, strength=2,  digit_tokens=list(\"12345\"))\n",
    "print(steered_out_int, steered_out)\n",
    "\n",
    "print(\"\\nWith negative steering (strength=-2.0):\")\n",
    "steered_out_int, steered_out = apply_steering(model = model, inputs = text_inputs, tok = tokenizer, steering_vec=steering_vec, layer_idx=layer_idx, strength=-2,  digit_tokens=list(\"12345\"))\n",
    "print(steered_out_int, steered_out)"
   ]
  },
  {
   "cell_type": "raw",
   "id": "0debbbc8",
   "metadata": {},
   "source": [
    "Even there's only one pos + neg pair (text), the steered answering task show the steered brightness/darkness"
   ]
  },
  {
   "cell_type": "code",
   "execution_count": 21,
   "id": "04c3cf2e",
   "metadata": {
    "ExecuteTime": {
     "end_time": "2025-09-16T22:45:34.759236Z",
     "start_time": "2025-09-16T22:45:34.734854Z"
    }
   },
   "outputs": [],
   "source": [
    "# ## 4. Activation Extraction (with pad_to_max + 'lm'/'raw' modes)\n",
    "\n",
    "# Returns list of arrays per layer: [N, seq_len, D]\n",
    "\n",
    "import numpy as np\n",
    "from PIL import Image\n",
    "def _amp_ctx(device, use_amp=True):\n",
    "    \"\"\"Return a context manager for autocast if on CUDA, else a no-op.\"\"\"\n",
    "    if not use_amp:\n",
    "        return nullcontext()\n",
    "    is_cuda = torch.cuda.is_available() and (\n",
    "        str(device).startswith(\"cuda\") or getattr(getattr(device, \"type\", None), \"__str__\", lambda: \"\")() == \"cuda\"\n",
    "        or (hasattr(device, \"type\") and device.type == \"cuda\")\n",
    "    )\n",
    "    if not is_cuda:\n",
    "        return nullcontext()\n",
    "    # Prefer new API if available\n",
    "    try:\n",
    "        return torch.autocast(\"cuda\", dtype=torch.float16)\n",
    "    except Exception:\n",
    "        # Fallback for older PyTorch\n",
    "        return torch.cuda.amp.autocast(dtype=torch.float16)\n",
    "def get_acts_paligemma(\n",
    "    model, device,\n",
    "    model_name=MODEL_NAME,\n",
    "    *, filenames: Optional[List[str]] = None, text: Optional[List[str]] = None,\n",
    "    batch_size=32, use_amp=True, mode=\"lm\", pad_to_max=None\n",
    "):\n",
    "    if (text is not None) and (filenames is not None):\n",
    "        raise ValueError(\"Provide either text or image, not both.\")\n",
    "\n",
    "    feats = []\n",
    "    model.eval()\n",
    "\n",
    "    # IMAGE branch\n",
    "    if filenames is not None:\n",
    "        proc = AutoProcessor.from_pretrained(model_name)\n",
    "        if mode == \"raw\":\n",
    "            model.vision_tower.config.output_hidden_states = True\n",
    "        else:\n",
    "            model.language_model.config.output_hidden_states = True\n",
    "\n",
    "        with torch.inference_mode(), _amp_ctx(device, use_amp):\n",
    "            for i in range(0, len(filenames), batch_size):\n",
    "                fbatch = filenames[i:i+batch_size]\n",
    "                imgs = [Image.open(fp).convert(\"RGB\") for fp in fbatch]\n",
    "\n",
    "                if mode == \"raw\":\n",
    "                    enc = proc(images=imgs, text=[\"<image>\"]*len(imgs), return_tensors=\"pt\")\n",
    "                    px = enc[\"pixel_values\"].to(device, non_blocking=True)\n",
    "                    vout = model.vision_tower(pixel_values=px, output_hidden_states=True, return_dict=True)\n",
    "                    hs = vout.hidden_states  # tuple of layers: [B, seq, 2304]\n",
    "                    print(f\"hs.shape: {hs.shape}\")\n",
    "                else:\n",
    "                    ############################# direct pass to the full model\n",
    "                    enc = proc(images=imgs, text=[\"<image>\"]*len(imgs), return_tensors=\"pt\").to(device)\n",
    "                    out = model(\n",
    "                                **enc,\n",
    "                                output_hidden_states=True,\n",
    "                                return_dict=True\n",
    "                            )\n",
    "                    \n",
    "                    hs_tuple = out.hidden_states   # tuple(len = n_layers), each [B, seq, 2304]\n",
    "#                     print(f\"hs_tuple[0].shape: {hs_tuple[0].shape}\")\n",
    "                    ############################# manual pass to vision_tower -> proj_layer -> language_model (more VRAM demanding)\n",
    "#                     enc = proc(images=imgs, text=[\"<image>\"]*len(imgs), return_tensors=\"pt\")\n",
    "#                     px = enc[\"pixel_values\"].to(device, non_blocking=True)\n",
    "#                     vout = model.vision_tower(pixel_values=px, output_hidden_states=False, return_dict=False)[0]\n",
    "#                     del px\n",
    "#                     print(f\"vout.shape: {vout.shape}\")\n",
    "#                     proj=model.multi_modal_projector(vout)\n",
    "#                     del vout                 \n",
    "#   #                  print(f'shape of input_ids: {enc[\"input_ids\"].shape}, input_ids: {enc[\"input_ids\"]}')\n",
    "#                     tok_embeds = model.language_model.embed_tokens(enc[\"input_ids\"][...,256:].to(device, non_blocking=True))\n",
    "#                     print(f\"tok_embeds.shape: {tok_embeds.shape}\")\n",
    "#                     inputs_embeds = torch.cat([proj, tok_embeds], dim=1)\n",
    "#                     print(f\"inputs_embeds.shape: {inputs_embeds.shape}\")\n",
    "#                     lm_inputs = {\n",
    "#                         \"inputs_embeds\": inputs_embeds,             # vision embeddings\n",
    "#                         \"attention_mask\": enc[\"attention_mask\"],\n",
    "#                     }\n",
    "#                     del proj\n",
    "#                     out = model.language_model(**lm_inputs, output_hidden_states=True, return_dict=True)\n",
    "#                     hs_tuple = out.hidden_states\n",
    "#                     print(f\"hs_tuple[0].shape: {hs_tuple[0].shape}\")\n",
    "#                     del out\n",
    "\n",
    "                feats.append([h.detach().cpu().float().numpy() for h in hs_tuple])\n",
    "                del hs_tuple, enc, imgs\n",
    "                torch.cuda.empty_cache()\n",
    "\n",
    "    # TEXT branch\n",
    "    elif text is not None:\n",
    "        tok = AutoTokenizer.from_pretrained(model_name)\n",
    "        model.language_model.config.output_hidden_states = True\n",
    "\n",
    "        with torch.inference_mode(), _amp_ctx(device, use_amp):\n",
    "            for i in range(0, len(text), batch_size):\n",
    "                tbatch = text[i:i+batch_size]\n",
    "                enc = tok(\n",
    "                    tbatch, return_tensors=\"pt\",\n",
    "                    padding=\"max_length\" if pad_to_max else True,\n",
    "                    truncation=True, max_length=pad_to_max\n",
    "                ).to(device)\n",
    "\n",
    "                out = model.language_model(**enc, output_hidden_states=True, return_dict=True)\n",
    "                hs = out.hidden_states  # tuple: [B, seq, 2304]\n",
    "\n",
    "                feats.append([h.detach().cpu().float().numpy() for h in hs])\n",
    "                del hs, enc, out\n",
    "                torch.cuda.empty_cache()\n",
    "    else:\n",
    "        raise ValueError(\"Must provide either filenames or text.\")\n",
    "\n",
    "    # concatenate across batches per layer\n",
    "    n_layers = len(feats[0])\n",
    "    layerwise = []\n",
    "    for l in range(n_layers):\n",
    "        arrs = [batch[l] for batch in feats]    # list of [B, seq, D]\n",
    "        layerwise.append(np.concatenate(arrs, axis=0))  # [N, seq, D] (consistent seq if padded)\n",
    "\n",
    "    return layerwise"
   ]
  },
  {
   "cell_type": "code",
   "execution_count": 22,
   "id": "049c73e3",
   "metadata": {
    "ExecuteTime": {
     "end_time": "2025-09-16T22:45:39.827393Z",
     "start_time": "2025-09-16T22:45:39.823740Z"
    }
   },
   "outputs": [],
   "source": [
    "# ====================== minimal steering helpers (NEW) ======================\n",
    "STEER_ALPHA = 1.0  # you can sweep this; positive increases predicted \"brightness\" if probe learned that.\n",
    "GEN_SAMPLE_IX = 0  # which test example to use for steered generation capture\n",
    "\n",
    "def _safe_unit(x: np.ndarray) -> np.ndarray:\n",
    "    n = np.linalg.norm(x)\n",
    "    return x / (n + 1e-12)\n",
    "    "
   ]
  },
  {
   "cell_type": "code",
   "execution_count": 25,
   "id": "120b9889",
   "metadata": {
    "ExecuteTime": {
     "end_time": "2025-09-16T23:07:22.251521Z",
     "start_time": "2025-09-16T22:57:24.522468Z"
    }
   },
   "outputs": [
    {
     "name": "stdout",
     "output_type": "stream",
     "text": [
      "Train groups: 400, Test groups: 100\n",
      "Train rows: 800, Test rows: 200\n",
      "layer:0\n"
     ]
    },
    {
     "name": "stderr",
     "output_type": "stream",
     "text": [
      "You are passing both `text` and `images` to `PaliGemmaProcessor`. The processor expects special image tokens in the text, as many tokens as there are images per each text. It is recommended to add `<image>` tokens in the very beginning of your text. For this call, we will infer how many images each text has and add special tokens.\n"
     ]
    },
    {
     "name": "stdout",
     "output_type": "stream",
     "text": [
      "layer: 0, steered: ['Video_1', 'person', '1 = very dark / night-like', '3 = moderate / typical indoor', '3'], steered_out_enforced_int_avg:2.0, strength: 0\n",
      "\n",
      "layer: 0, steered: ['5 = very bright', '4.5', 'Medium', '1 (extremely dark)', '1 = very dark / night-like'], steered_out_enforced_int_avg:2.0, strength: 1\n",
      "\n",
      "layer: 0, steered: ['3', '1 = very dark / night-like', '0 = very dark / night-like', '1', '3'], steered_out_enforced_int_avg:1.4, strength: 2\n",
      "\n",
      "layer: 0, steered: ['#4 - very bright', '4', '#4 bright', '1 2 3 4 5', '1 - 5'], steered_out_enforced_int_avg:2.8, strength: 5\n",
      "\n",
      "layer: 0, steered: ['How bright is the room?', '1 = very dark / night-like 2 = dim 3 = moderate / typical indoor 4 = bright 5 = extremely bright (snow/sun glare, painful to look at)', '#', 'answer: 3', '2'], steered_out_enforced_int_avg:3.0, strength: 10\n",
      "\n",
      "layer: 0, steered: ['What do you think is the best of these 5? 1 = very dark / night-like 2 = dim 3 = moderate / typical indoor 4 = bright', 'Can you say 1', '1 = very dark', 'How bright is this scene?', 'of your room'], steered_out_enforced_int_avg:2.6, strength: 20\n",
      "\n",
      "Layer  0 | Train 0.9925 | Test 0.9550 | F1 0.9550\n",
      "layer:1\n"
     ]
    },
    {
     "name": "stderr",
     "output_type": "stream",
     "text": [
      "You are passing both `text` and `images` to `PaliGemmaProcessor`. The processor expects special image tokens in the text, as many tokens as there are images per each text. It is recommended to add `<image>` tokens in the very beginning of your text. For this call, we will infer how many images each text has and add special tokens.\n"
     ]
    },
    {
     "name": "stdout",
     "output_type": "stream",
     "text": [
      "layer: 1, steered: ['1 = very dark / night-like', '1 2 3 4 5 6 7 8 9 10 *', '1 = very dark / night-like 2 = dim 3 = moderate / typical indoor 4 = bright 5 = extremely bright', '1 = very dark / night-like\\n2 = dim 3 = moderate / typical indoor\\n4 = bright 5 = extremely bright (snow/sun glare, painful to look at)', '1 = very dark / night-like'], steered_out_enforced_int_avg:1.8, strength: 0\n",
      "\n",
      "layer: 1, steered: ['4', '1 5', 'answer: 3', '2 = dim', '0 = very dark / night-like 05 = extremely bright'], steered_out_enforced_int_avg:1.4, strength: 1\n",
      "\n",
      "layer: 1, steered: ['answer: 1', '3', '3 = moderate / typical indoor', '1', '1 2 3 4 5'], steered_out_enforced_int_avg:2.4, strength: 2\n",
      "\n",
      "layer: 1, steered: ['1', 'answer: 4', '4 = typical indoor', '3', '1 2 3 4 5'], steered_out_enforced_int_avg:2.0, strength: 5\n",
      "\n",
      "layer: 1, steered: ['answer: 3', 'Score: 1 3 4 5', '1: very dark / night-like 2: dim 3: moderate / typical indoor 4: bright 5: extremely bright', 'answer : 3', 'Answer: 3'], steered_out_enforced_int_avg:3.8, strength: 10\n",
      "\n",
      "layer: 1, steered: ['0', '1 = very dark / night-like 2 = dim 3 = moderate / typical indoor 4 = bright 5 = extremely bright (snow/sun glare, painful to look at)', 'answer: 3', '1 = very dark / night-like 2 = dim 3 = moderate / typical indoor 4 = bright 5 = extremely bright (snow/sun glare, painful to look at)', '1'], steered_out_enforced_int_avg:2.4, strength: 20\n",
      "\n",
      "Layer  1 | Train 1.0000 | Test 0.9500 | F1 0.9500\n",
      "layer:2\n"
     ]
    },
    {
     "name": "stderr",
     "output_type": "stream",
     "text": [
      "You are passing both `text` and `images` to `PaliGemmaProcessor`. The processor expects special image tokens in the text, as many tokens as there are images per each text. It is recommended to add `<image>` tokens in the very beginning of your text. For this call, we will infer how many images each text has and add special tokens.\n"
     ]
    },
    {
     "name": "stdout",
     "output_type": "stream",
     "text": [
      "layer: 2, steered: ['3 = moderate / typical indoor', '1', 'Medium', '5', '1 = very dark / night-like 2 = dim 3 = moderate / typical indoor 4 = bright\\n5 = extremely bright (snow/sun glare, painful to look at)'], steered_out_enforced_int_avg:2.4, strength: 0\n",
      "\n",
      "layer: 2, steered: ['light', 'answer : 3', '1 = very dark / night-like\\n2 = dim\\n3 = moderate / typical indoor\\n4 = bright\\n5 = extremely bright (snow/sun glare, painful to look at)', '#', '1 = very dark / night-like\\n2 = dim\\n3 = moderate / typical indoor\\n4 = bright\\n5 = extremely bright (snow/sun glare, painful to look at)'], steered_out_enforced_int_avg:1.0, strength: 1\n",
      "\n",
      "layer: 2, steered: ['3 = moderate / typical indoor', 'average', '# 1 = very dark / night-like # 2 = dim # 3 = moderate / typical indoor # 4 = bright # 5 = extremely bright (snow/sun glare, painful to look at)', 'What do you think of this picture?', '1 = very dark / night-like 2 = dim 3 = moderate / typical indoor 4 = bright 5 = extremely bright'], steered_out_enforced_int_avg:2.4, strength: 2\n",
      "\n",
      "layer: 2, steered: ['How bright is the scene?', '1 = very dark / night-like', '0000 : 1 1 1 1 1 1 1 1 1 1 1 1 1 1 1 1 1 1 1 1 1 1 1 1 1 1 1 1 1 ', '0 = very dark', 'answer:'], steered_out_enforced_int_avg:2.0, strength: 5\n",
      "\n",
      "layer: 2, steered: ['If the scene is very dark, choose 1. If it is moderate, choose 2. If it is bright, choose 3. If it is extremely bright, choose 4. If uncertain, choose 5.', '4 = bright', '#1', '#', '1 = very dark / night-like'], steered_out_enforced_int_avg:1.8, strength: 10\n",
      "\n",
      "layer: 2, steered: ['The room is brighter than the picture.', 'Video', '#', '#', 'https www youtube com watch v'], steered_out_enforced_int_avg:2.4, strength: 20\n",
      "\n",
      "Layer  2 | Train 1.0000 | Test 0.9450 | F1 0.9450\n",
      "layer:3\n"
     ]
    },
    {
     "name": "stderr",
     "output_type": "stream",
     "text": [
      "You are passing both `text` and `images` to `PaliGemmaProcessor`. The processor expects special image tokens in the text, as many tokens as there are images per each text. It is recommended to add `<image>` tokens in the very beginning of your text. For this call, we will infer how many images each text has and add special tokens.\n"
     ]
    },
    {
     "name": "stdout",
     "output_type": "stream",
     "text": [
      "layer: 3, steered: ['0 = very dark', '1 = too dark', '1 = very dark / night-like', 'Click here to read more', '2 = moderate / typical indoor'], steered_out_enforced_int_avg:2.6, strength: 0\n",
      "\n",
      "layer: 3, steered: ['1 = very dark / night-like\\n2 = dim\\n3 = moderate / typical indoor\\n4 = bright\\n5 = extremely bright', 'answer : average appearance', 'answer: 3', '1 = very dark / night-like 2 = dim 3 = moderate / typical indoor 4 = bright 5 = extremely bright', '1 2 3'], steered_out_enforced_int_avg:2.0, strength: 1\n",
      "\n",
      "layer: 3, steered: ['0 = very dark / night-like\\n3 = moderate / typical indoor\\n4 = bright\\n5 = extremely bright', 'average', '0', '#1', '4'], steered_out_enforced_int_avg:1.8, strength: 2\n",
      "\n",
      "layer: 3, steered: ['3 = moderate / typical indoor', '#video', '1 = very dark / night-like', 'Output only one digit (1–5).', 'answer : 3'], steered_out_enforced_int_avg:2.6, strength: 5\n",
      "\n",
      "layer: 3, steered: ['Screenshot from video:', 'dog', 'dogs', 'image', 'answer: average'], steered_out_enforced_int_avg:2.4, strength: 10\n",
      "\n",
      "layer: 3, steered: ['1 = very dark / night-like', 'Question: How can this scene be described?', 'image', '3', 'I would say 3.'], steered_out_enforced_int_avg:2.8, strength: 20\n",
      "\n",
      "Layer  3 | Train 1.0000 | Test 0.9450 | F1 0.9449\n",
      "layer:4\n"
     ]
    },
    {
     "name": "stderr",
     "output_type": "stream",
     "text": [
      "You are passing both `text` and `images` to `PaliGemmaProcessor`. The processor expects special image tokens in the text, as many tokens as there are images per each text. It is recommended to add `<image>` tokens in the very beginning of your text. For this call, we will infer how many images each text has and add special tokens.\n"
     ]
    },
    {
     "name": "stdout",
     "output_type": "stream",
     "text": [
      "layer: 4, steered: ['1 2 3 4 5 6 7 8 9 10 11 12', 'answer: 3', 'medium light', '3', 'I rate it from 1 - 5.'], steered_out_enforced_int_avg:2.8, strength: 0\n",
      "\n",
      "layer: 4, steered: ['Answer: 3', 'Very dark / night-like', '#', 'answer: 3', '1 = very dark / night-like\\n2 = dim\\n3 = moderate / typical indoor\\n4 = bright\\n5 = extremely bright (snow/sun glare, painful to look at)'], steered_out_enforced_int_avg:2.4, strength: 1\n",
      "\n",
      "layer: 4, steered: ['Very dark / night like', 'Dogs', '5', '3', '5 = extremely bright'], steered_out_enforced_int_avg:2.4, strength: 2\n",
      "\n",
      "layer: 4, steered: ['3 = bright', '2', 'What if the dog is afraid of the light?', '0 = dark (a lot darker than average)\\n1 = dim (less dark than average)\\n2 = moderate (roughly the same average)\\n3 = bright (slightly brighter than average)\\n4 = extremely bright (much brighter than average)\\n5 = blinding (extremely bright)\\nOutput only one digit', 'a - 1 - very dark / night-like'], steered_out_enforced_int_avg:1.6, strength: 5\n",
      "\n",
      "layer: 4, steered: ['funny video of a dog', '1 2 3 4 5', 'Screenshot', '0 = very dark / night-like', 'i'], steered_out_enforced_int_avg:2.4, strength: 10\n",
      "\n",
      "layer: 4, steered: ['5 = extremely bright', 'of average appearance, ignoring small', 'image', 'video', 'image'], steered_out_enforced_int_avg:3.2, strength: 20\n",
      "\n",
      "Layer  4 | Train 1.0000 | Test 0.9550 | F1 0.9550\n",
      "layer:5\n"
     ]
    },
    {
     "name": "stderr",
     "output_type": "stream",
     "text": [
      "You are passing both `text` and `images` to `PaliGemmaProcessor`. The processor expects special image tokens in the text, as many tokens as there are images per each text. It is recommended to add `<image>` tokens in the very beginning of your text. For this call, we will infer how many images each text has and add special tokens.\n"
     ]
    },
    {
     "name": "stdout",
     "output_type": "stream",
     "text": [
      "layer: 5, steered: ['1 = very dark / night-like', '3.0', '1 = very dark / night-like', '3', '6'], steered_out_enforced_int_avg:2.4, strength: 0\n",
      "\n",
      "layer: 5, steered: ['0 = very dark / night-like\\n1 = dim 2 = moderate / typical indoor 3 = bright 4 = extremely bright', 'Medium', '0 = 1', '4 = bright', '2 = bright'], steered_out_enforced_int_avg:2.0, strength: 1\n",
      "\n",
      "layer: 5, steered: ['Question: In general, what is the overall brightness of the scene?', '3', '3', '(1 = dark, 5 = bright)', \"I have mixed opinions on this one. How bright is the scene? Not that bright, but not too dark, either. It's somewhere in between, but it did not have to be so dark to be so bright.\\n1 = very dark / night-like\\n2 = dim\\n3 = moderate /\"], steered_out_enforced_int_avg:3.0, strength: 2\n",
      "\n",
      "layer: 5, steered: ['Answer: 4', '# of people: 1', 'answer: 3', 'answer: 3', 'medium'], steered_out_enforced_int_avg:4.2, strength: 5\n",
      "\n",
      "layer: 5, steered: ['3 = moderate / typical indoor', '00:01:05', '1 = very dark / night-like 2 = dim 3 = moderate / typical indoor 4 = bright 5 = extremely bright', 'A: 3', '0 = very dark to bright'], steered_out_enforced_int_avg:2.6, strength: 10\n",
      "\n",
      "layer: 5, steered: ['1 5', '1. very dark / night-like', '5 = extremely bright', '1', '3 = bright'], steered_out_enforced_int_avg:2.2, strength: 20\n",
      "\n",
      "Layer  5 | Train 1.0000 | Test 0.9800 | F1 0.9800\n",
      "layer:6\n"
     ]
    },
    {
     "name": "stderr",
     "output_type": "stream",
     "text": [
      "You are passing both `text` and `images` to `PaliGemmaProcessor`. The processor expects special image tokens in the text, as many tokens as there are images per each text. It is recommended to add `<image>` tokens in the very beginning of your text. For this call, we will infer how many images each text has and add special tokens.\n"
     ]
    },
    {
     "name": "stdout",
     "output_type": "stream",
     "text": [
      "layer: 6, steered: ['(1 = very dark / night-like) (2 = dim) (3 = moderate / typical indoor) (4 = bright) (5 = extremely bright (snow/sun glare, painful to look at)', '1 = very dark / night-like', '1 = very dark / night-like', '3', '1 = very dark / night-like 2 = dim 3 = moderate / typical indoor 4 = bright'], steered_out_enforced_int_avg:3.4, strength: 0\n",
      "\n",
      "layer: 6, steered: ['Video', '1 = very dark / night-like', '1 = very dark / night-like', '1 = very dark / night-like', '5 = extremely bright'], steered_out_enforced_int_avg:3.0, strength: 1\n",
      "\n",
      "layer: 6, steered: ['1 = very dark / night-like\\n2 = dim\\n3 = moderate / typical indoor\\n4 = bright\\n5 = extremely bright (snow/sun glare, painful to look at)\\nScale:\\n1 = very dark / night-like\\n2 = dim\\n3 = moderate / typical indoor\\n4', 'very bright', '5 = extremely bright (snow/sun glare, painful to look at)', '1 = very dark / night-like', '0 = very dark / night-like'], steered_out_enforced_int_avg:2.4, strength: 2\n",
      "\n",
      "layer: 6, steered: ['3 = bright', 'Question: What is the overall brightness?', '2', 'dogs dancing in the living room', 'dogs'], steered_out_enforced_int_avg:3.2, strength: 5\n",
      "\n",
      "layer: 6, steered: ['https://www.youtube.com/watch?v=h17F9wF2W10', 'Irate by average appearance, ignoring small light sources and specular highlights.', '5 = very bright / sun glare / snow /', 'A: 3', '3'], steered_out_enforced_int_avg:3.0, strength: 10\n",
      "\n",
      "layer: 6, steered: ['2 = dim', '0 = very dark / night-like 2 = dim', '1 = very dark / night-like\\n2 = dim\\n3 = moderate / typical indoor\\n4 = bright\\n5 = extremely bright (snow/sun glare, painful to look at)', 'i', '6000x3300'], steered_out_enforced_int_avg:2.2, strength: 20\n",
      "\n",
      "Layer  6 | Train 1.0000 | Test 0.9850 | F1 0.9850\n",
      "layer:7\n"
     ]
    },
    {
     "name": "stderr",
     "output_type": "stream",
     "text": [
      "You are passing both `text` and `images` to `PaliGemmaProcessor`. The processor expects special image tokens in the text, as many tokens as there are images per each text. It is recommended to add `<image>` tokens in the very beginning of your text. For this call, we will infer how many images each text has and add special tokens.\n"
     ]
    },
    {
     "name": "stdout",
     "output_type": "stream",
     "text": [
      "layer: 7, steered: ['5 = extremely bright', 'Answer: 3', '0 = very dark', '3', '2 = moderate / typical indoor 3 = bright 4 = extremely bright'], steered_out_enforced_int_avg:3.0, strength: 0\n",
      "\n",
      "layer: 7, steered: ['bright', '7', '1 = very dark / night-like', 'Average', '1 2 3 4 5'], steered_out_enforced_int_avg:3.0, strength: 1\n",
      "\n",
      "layer: 7, steered: ['#', '1 2 3 4 5', '4', '1 = very dark / night-like', '3 = moderate / typical indoor'], steered_out_enforced_int_avg:2.2, strength: 2\n",
      "\n",
      "layer: 7, steered: ['3 = moderate / typical indoor', '1', 'dog', '1 2 3 4 5', '0'], steered_out_enforced_int_avg:3.0, strength: 5\n",
      "\n",
      "layer: 7, steered: ['0 = extremely dark / night-like', '1', 'video', '0 = very dark / night-like\\n2 = dim\\n3 = moderate / typical indoor\\n4 = bright', '5 = extremely bright'], steered_out_enforced_int_avg:2.4, strength: 10\n",
      "\n",
      "layer: 7, steered: ['1 2 3 4 5', '1 2 3 4 5', '1 2 3 4 5', '1 2 3 4 5', '#'], steered_out_enforced_int_avg:2.2, strength: 20\n",
      "\n",
      "Layer  7 | Train 1.0000 | Test 0.9700 | F1 0.9700\n",
      "layer:8\n"
     ]
    },
    {
     "name": "stderr",
     "output_type": "stream",
     "text": [
      "You are passing both `text` and `images` to `PaliGemmaProcessor`. The processor expects special image tokens in the text, as many tokens as there are images per each text. It is recommended to add `<image>` tokens in the very beginning of your text. For this call, we will infer how many images each text has and add special tokens.\n"
     ]
    },
    {
     "name": "stdout",
     "output_type": "stream",
     "text": [
      "layer: 8, steered: ['3', '1 = very dark / night-like\\n2 = dim 3 = moderate / typical indoor 4 = bright 5 = extremely bright', '1 = very dark / night-like\\n2 = dim\\n3 = moderately bright\\n4 = bright\\n5 = extremely bright (snow/sun glare, painful to look at)', '1 = very dark / night-like', '1 = very dark / night-like'], steered_out_enforced_int_avg:3.6, strength: 0\n",
      "\n",
      "layer: 8, steered: ['1 = very dark / night-like', 'No words, no punctuation.', '1 = very dark / night-like 2 = dim 3 = moderate / typical indoor 4 = bright 5 = extremely bright', '1 = very dark / night-like', '2 = moderate / typical indoor'], steered_out_enforced_int_avg:2.4, strength: 1\n",
      "\n",
      "layer: 8, steered: ['1 = very dark / night-like', '1 = very dark / night-like', '2 = moderate / typical indoor', '3 = bright', '1 = very dark / night-like\\n2 = dim\\n3 = moderate / typical indoor\\n4 = bright\\n5 = extremely bright'], steered_out_enforced_int_avg:2.8, strength: 2\n",
      "\n",
      "layer: 8, steered: ['1 = very dark / night-like\\n2 = dim\\n3 = moderate / typical indoor\\n4 = bright\\n5 = extremely bright (snow/sun glare, painful to look at)\\nScale:\\n1 = very dark / night-like\\n2 = dim\\n3 = moderate / typical indoor\\n4', '1 - extremely bright 2 - quite bright 3 - bright 4 - moderate 5 - very dim', '1 = very dark / night-like', 'I have no idea what this means', 'dog'], steered_out_enforced_int_avg:1.4, strength: 5\n",
      "\n",
      "layer: 8, steered: ['Source:', 'Answer: 3', '3 = moderate / typical indoor', '(1 = very dark / night-like 2 = dim 3 = moderate / typical indoor 4 = bright 5 = extremely bright (snow/sun glare, painful to look at)', 'Answer: 2'], steered_out_enforced_int_avg:1.6, strength: 10\n",
      "\n",
      "layer: 8, steered: ['2 = dim', 'Select 1-5.', 'Very dark / night-like', '1 = very dark / night-like 2 = dim 3 = moderate / typical indoor 4 = bright 5 = extremely bright (snow/sun glare, painful to look at)', '0 minutes, 2 seconds left in video'], steered_out_enforced_int_avg:3.0, strength: 20\n",
      "\n",
      "Layer  8 | Train 1.0000 | Test 0.9400 | F1 0.9400\n",
      "layer:9\n"
     ]
    },
    {
     "name": "stderr",
     "output_type": "stream",
     "text": [
      "You are passing both `text` and `images` to `PaliGemmaProcessor`. The processor expects special image tokens in the text, as many tokens as there are images per each text. It is recommended to add `<image>` tokens in the very beginning of your text. For this call, we will infer how many images each text has and add special tokens.\n"
     ]
    },
    {
     "name": "stdout",
     "output_type": "stream",
     "text": [
      "layer: 9, steered: ['dog', '1 = very dark', '1 = very dark', '1', 'answer: 4'], steered_out_enforced_int_avg:2.8, strength: 0\n",
      "\n",
      "layer: 9, steered: ['1 = very dark / night-like 2 = dim 3 = moderate / typical indoor 4 = bright 5 = extremely bright (snow/sun glare, painful to look at)', '1 = very dark / night-like 2 = dim 3 = moderate / typical indoor 4 = bright 5 = extremely bright', 'Medium', '1 = very dark / night-like', '4'], steered_out_enforced_int_avg:1.6, strength: 1\n",
      "\n",
      "layer: 9, steered: [\"1. If you can't tell, you can guess from your own experience.\", '8', '3 4 5\\nWhat is the overall scene brightness?', 'answer: 3', '1 = very dark / night-like'], steered_out_enforced_int_avg:1.8, strength: 2\n",
      "\n",
      "layer: 9, steered: ['answer: average', 'answer : 3', '1 = very dark / night-like', 'Answer: 3', '1 = very dark / night-like 2 = dim 3 = moderate / typical indoor 4 = bright 5 = extremely bright'], steered_out_enforced_int_avg:1.4, strength: 5\n",
      "\n",
      "layer: 9, steered: ['Very dark / night-like', '1 = dark', '#', '1 = very dark / night-like\\n2 = dim\\n3 = moderate / typical indoor\\n4 = bright\\n5 = extremely bright (snow/sun glare, painful to look at)\\nScale:\\n1 = very dark / night-like\\n2 = dim\\n3 = moderate / typical indoor\\n4', '0 = very dark/night-like'], steered_out_enforced_int_avg:2.6, strength: 10\n",
      "\n",
      "layer: 9, steered: ['3', '1 = very dark / night-like', '1 = very dark / night-like', 'Average appearance of the room.', '5 = extremely bright (snow/sun glare, painful to look at)'], steered_out_enforced_int_avg:3.0, strength: 20\n",
      "\n",
      "Layer  9 | Train 1.0000 | Test 0.9450 | F1 0.9450\n",
      "layer:10\n"
     ]
    },
    {
     "name": "stderr",
     "output_type": "stream",
     "text": [
      "You are passing both `text` and `images` to `PaliGemmaProcessor`. The processor expects special image tokens in the text, as many tokens as there are images per each text. It is recommended to add `<image>` tokens in the very beginning of your text. For this call, we will infer how many images each text has and add special tokens.\n"
     ]
    },
    {
     "name": "stdout",
     "output_type": "stream",
     "text": [
      "layer: 10, steered: ['1 = very dark / night-like', '1 = very dark / night-like', '4 = bright', 'answer : 4', '1 = very dark / night-like 2 = dim 3 = moderate / typical indoor 4 = bright 5 = extremely bright'], steered_out_enforced_int_avg:2.2, strength: 0\n",
      "\n",
      "layer: 10, steered: ['2', '1 = very dark / night-like', 'overwhelmingly bright', '1 2 3 4 5', '5 = very bright'], steered_out_enforced_int_avg:2.8, strength: 1\n",
      "\n",
      "layer: 10, steered: ['3', '1 = very dark / night-like 2 = dim 3 = moderate / typical indoor 4 = bright 5 = extremely bright (snow/sun glare, painful to look at)', '1', 'No words, no punctuation.', '1 = very dark / night-like 2 = dim 3 = moderate / typical indoor 4 = bright 5 = extremely bright (snow/sun glare, painful to look at)'], steered_out_enforced_int_avg:2.6, strength: 2\n",
      "\n",
      "layer: 10, steered: ['#', 'If uncertain, choose 3.', 'Answer: 3', '4', '1 = very dark / night-like 2 = dim 3 = moderate / typical indoor 4 = bright 5 = extremely bright (snow/sun glare, painful to look at)'], steered_out_enforced_int_avg:3.2, strength: 5\n",
      "\n",
      "layer: 10, steered: ['1 - 5', '5 = extremely bright', '1 = very dark / night-like', 'average indoor', '5'], steered_out_enforced_int_avg:4.2, strength: 10\n",
      "\n",
      "layer: 10, steered: ['1', '2', '1', '1', '2 = dim'], steered_out_enforced_int_avg:4.2, strength: 20\n",
      "\n",
      "Layer 10 | Train 1.0000 | Test 0.9200 | F1 0.9200\n",
      "layer:11\n"
     ]
    },
    {
     "name": "stderr",
     "output_type": "stream",
     "text": [
      "You are passing both `text` and `images` to `PaliGemmaProcessor`. The processor expects special image tokens in the text, as many tokens as there are images per each text. It is recommended to add `<image>` tokens in the very beginning of your text. For this call, we will infer how many images each text has and add special tokens.\n"
     ]
    },
    {
     "name": "stdout",
     "output_type": "stream",
     "text": [
      "layer: 11, steered: ['Click for explanation', '3 = moderate / typical indoor', '2 = moderate / typical indoor', '1 = very dark / night-like\\n2 = dim\\n3 = moderate / typical indoor\\n4 = bright\\n5 = extremely bright (snow/sun glare, painful to look at)', '3 2 1 5'], steered_out_enforced_int_avg:2.4, strength: 0\n",
      "\n",
      "layer: 11, steered: ['8', 'Video', '1 = very dark / night-like', 'average', 'average'], steered_out_enforced_int_avg:3.6, strength: 1\n",
      "\n",
      "layer: 11, steered: ['1 = very dark / night-like\\n2 = dim\\n3 = moderate / typical indoor\\n4 = bright\\n5 = extremely bright (snow/sun glare, painful to look at)\\nScale: 1 = very dark / night-like 2 = dim\\n3 = moderate / typical indoor\\n4', '3', '(1-5)', '1', '2'], steered_out_enforced_int_avg:2.6, strength: 2\n",
      "\n",
      "layer: 11, steered: ['1', '5 = extremely bright', '0 = dark / night-like', '1 = very dark / night-like', 'Answer: 3'], steered_out_enforced_int_avg:2.2, strength: 5\n",
      "\n",
      "layer: 11, steered: ['screen', '5', '8', '4', '1 2 3 4 5'], steered_out_enforced_int_avg:3.8, strength: 10\n",
      "\n",
      "layer: 11, steered: ['1 2 3 4 5', '2', 'answer: 3', '3', '1'], steered_out_enforced_int_avg:2.8, strength: 20\n",
      "\n",
      "Layer 11 | Train 1.0000 | Test 0.9400 | F1 0.9400\n",
      "layer:12\n"
     ]
    },
    {
     "name": "stderr",
     "output_type": "stream",
     "text": [
      "You are passing both `text` and `images` to `PaliGemmaProcessor`. The processor expects special image tokens in the text, as many tokens as there are images per each text. It is recommended to add `<image>` tokens in the very beginning of your text. For this call, we will infer how many images each text has and add special tokens.\n"
     ]
    },
    {
     "name": "stdout",
     "output_type": "stream",
     "text": [
      "layer: 12, steered: ['4', 'Example: How bright is the scene?', '2', '1 2 3 4 5', '1 = very dark / night-like'], steered_out_enforced_int_avg:1.8, strength: 0\n",
      "\n",
      "layer: 12, steered: ['0 = very dark / night-like 1 = dim 2 = moderate / typical indoor 3 = bright 4 = extremely bright', '3', '1 = very dark / night-like', '3', '2 = dim'], steered_out_enforced_int_avg:3.0, strength: 1\n",
      "\n",
      "layer: 12, steered: ['2 = dim', '1 = very dark / night-like', '3', '1 = very dark / night-like\\n2 = dim\\n3 = moderate / typical indoor\\n4 = bright\\n5 = extremely bright', '4 = bright'], steered_out_enforced_int_avg:2.8, strength: 2\n",
      "\n",
      "layer: 12, steered: ['5', '3', '1 = dark / night-like 2 = dim / typical indoor 3 = moderate / typical indoor 4 = bright 5 = extremely bright (snow/sun glare, painful to look at)', 'Question: Is the scene bright?', 'Very dark, 2 = moderate, 3 = typical indoor, 4 = bright, 5 = extremely bright.'], steered_out_enforced_int_avg:1.4, strength: 5\n",
      "\n",
      "layer: 12, steered: ['3', '1 = very dark / night-like', '1 = very dark / night-like', 'Question: How is the scene lighting?', '3 = Moderate / typical indoor 4 = Extremely bright'], steered_out_enforced_int_avg:2.8, strength: 10\n",
      "\n",
      "layer: 12, steered: ['answer: light', '6 = very bright', '5 = extremely bright (snow/sun glare, painful to look at)', 'Answer: 2', 'a) 1-2'], steered_out_enforced_int_avg:2.2, strength: 20\n",
      "\n",
      "Layer 12 | Train 1.0000 | Test 0.9300 | F1 0.9300\n",
      "layer:13\n"
     ]
    },
    {
     "name": "stderr",
     "output_type": "stream",
     "text": [
      "You are passing both `text` and `images` to `PaliGemmaProcessor`. The processor expects special image tokens in the text, as many tokens as there are images per each text. It is recommended to add `<image>` tokens in the very beginning of your text. For this call, we will infer how many images each text has and add special tokens.\n"
     ]
    },
    {
     "name": "stdout",
     "output_type": "stream",
     "text": [
      "layer: 13, steered: ['Scale:', '123', '1 = very dark / night-like', '1 = very dark / night-like 2 = dim 3 = moderate / typical indoor 4 = bright 5 = extremely bright (snow/sun glare, painful to look at)', '#'], steered_out_enforced_int_avg:3.0, strength: 0\n",
      "\n",
      "layer: 13, steered: ['0', '4', '#', '1 2 3 4 5', 'No'], steered_out_enforced_int_avg:2.6, strength: 1\n",
      "\n",
      "layer: 13, steered: ['1 = very dark / night-like', '1 = very dark / night-like', 'average', '1 = very dark / night-like', '0 = extremely dark / night-like\\n1 = dim\\n2 = moderate / typical indoor\\n3 = bright\\n4 = extremely bright (snow/sun glare, painful to look at)\\nQuestion: What is the scene brightness?'], steered_out_enforced_int_avg:2.0, strength: 2\n",
      "\n",
      "layer: 13, steered: ['1 = very dark / night-like 2 = dim 3 = moderate / typical indoor 4 = bright 5 = extremely bright', '00:09', '3 = moderate / typical indoor', 'answer : 4', 'Medium'], steered_out_enforced_int_avg:1.6, strength: 5\n",
      "\n",
      "layer: 13, steered: ['1 = very dark / night-like', '1 2 3 4 5', 'average', 'answer : 4', '0'], steered_out_enforced_int_avg:2.0, strength: 10\n",
      "\n",
      "layer: 13, steered: ['1 = very dark/night-like', '4', '2 = dim', '15', '1'], steered_out_enforced_int_avg:1.6, strength: 20\n",
      "\n",
      "Layer 13 | Train 1.0000 | Test 0.9400 | F1 0.9400\n",
      "layer:14\n"
     ]
    },
    {
     "name": "stderr",
     "output_type": "stream",
     "text": [
      "You are passing both `text` and `images` to `PaliGemmaProcessor`. The processor expects special image tokens in the text, as many tokens as there are images per each text. It is recommended to add `<image>` tokens in the very beginning of your text. For this call, we will infer how many images each text has and add special tokens.\n"
     ]
    },
    {
     "name": "stdout",
     "output_type": "stream",
     "text": [
      "layer: 14, steered: ['1 = very dark / night-like 2 = dim 3 = moderate / typical indoor 4 = bright 5 = extremely bright (snow/sun glare, painful to look at) Output only one digit (1–5). No words, no punctuation.', '4', '1 = very dark / night-like\\n2 = dim\\n4 = bright\\n5 = extremely bright (snow/sun glare, painful to look at)', '1', '2 = dim'], steered_out_enforced_int_avg:2.8, strength: 0\n",
      "\n",
      "layer: 14, steered: ['4 = very bright', '0 = very dark / night-like\\n1 = dim\\n2 = moderate / typical indoor\\n3 = bright\\n4 = extremely bright (snow/sun glare, painful to look at)', '2 = moderate / typical indoor', 'answer: Very dim / night-like', '1 = very dark / night-like 2 = dim'], steered_out_enforced_int_avg:1.4, strength: 1\n",
      "\n",
      "layer: 14, steered: ['1 = very dark / night-like\\n2 = dim\\n3 = moderate / typical indoor\\n4 = bright\\n5 = extremely bright (snow/sun glare, painful to look at)', '1 = very dark / night-like\\n2 = dim 3 = moderate / typical indoor 4 = bright 5 = extremely bright', '5 = extremely bright', '3 = moderate / typical indoor', '(1 5)'], steered_out_enforced_int_avg:1.6, strength: 2\n",
      "\n",
      "layer: 14, steered: ['0 = very dark / night-like 1 = dim 2 = moderate / typical indoor 3 = bright 5 = extremely bright (snow/sun glare, painful to look at)', '1', '3 = moderate / typical indoor', 'answer: 3', 'answer: 3'], steered_out_enforced_int_avg:3.4, strength: 5\n",
      "\n",
      "layer: 14, steered: ['2', '3', 'Answer: 2', '1', '1 2 3 4 5'], steered_out_enforced_int_avg:2.8, strength: 10\n",
      "\n",
      "layer: 14, steered: ['1 = very dark / night-like 2 = dim 3 = moderate / typical indoor 4 = bright 5 = extremely bright (snow/sun glare, painful to look at)', '1 2 3 4 5', '2 = dim', 'I need to know how to get this dog to like my cat more he hates him', '0 = dark / night-like\\n1 = dim\\n2 = moderate / typical indoor\\n3 = bright\\n4 = extremely bright (snow/sun glare, painful to look at)'], steered_out_enforced_int_avg:1.8, strength: 20\n",
      "\n",
      "Layer 14 | Train 1.0000 | Test 0.9150 | F1 0.9150\n",
      "layer:15\n"
     ]
    },
    {
     "name": "stderr",
     "output_type": "stream",
     "text": [
      "You are passing both `text` and `images` to `PaliGemmaProcessor`. The processor expects special image tokens in the text, as many tokens as there are images per each text. It is recommended to add `<image>` tokens in the very beginning of your text. For this call, we will infer how many images each text has and add special tokens.\n"
     ]
    },
    {
     "name": "stdout",
     "output_type": "stream",
     "text": [
      "layer: 15, steered: ['3', '3 = average indoor', '1', '1 = very dark / night-like', '1 = very dark / night-like'], steered_out_enforced_int_avg:2.8, strength: 0\n",
      "\n",
      "layer: 15, steered: ['answer : 3', '0 = very dark / night-like\\n2 = dim\\n3 = moderate / typical indoor\\n4 = bright\\n5 = extremely bright (snow/sun glare, painful to look at)', '3 = average / light', '1 = very dark / night-like 2 = dim 3 = moderate / typical indoor 4 = bright 5 = extremely bright (snow/sun glare, painful to look at) Output only one digit (1–5). No words, no punctuation.', '1 = very dark / night-like'], steered_out_enforced_int_avg:2.6, strength: 1\n",
      "\n",
      "layer: 15, steered: ['answer: 4', 'answer: 3', '1 = very dark / night-like', 'answer is 3', '1 = very dark / night-like'], steered_out_enforced_int_avg:1.6, strength: 2\n",
      "\n",
      "layer: 15, steered: ['1 = very dark / night-like', '1 = very dark / night-like\\n2 = dim', '3 = moderate / typical indoor', '3 = average indoor', '2 = dim'], steered_out_enforced_int_avg:2.4, strength: 5\n",
      "\n",
      "layer: 15, steered: ['2 = dim', '#', 'average', 'answer: average', 'Click here to find out what the average person sees when they look at a picture taken with a camera.'], steered_out_enforced_int_avg:1.6, strength: 10\n",
      "\n",
      "layer: 15, steered: ['3 = moderate / typical indoor', '3 = bright', 'average', '1 = very dark / night-like', '3 = moderate / typical indoor'], steered_out_enforced_int_avg:2.2, strength: 20\n",
      "\n",
      "Layer 15 | Train 1.0000 | Test 0.9050 | F1 0.9050\n",
      "layer:16\n"
     ]
    },
    {
     "name": "stderr",
     "output_type": "stream",
     "text": [
      "You are passing both `text` and `images` to `PaliGemmaProcessor`. The processor expects special image tokens in the text, as many tokens as there are images per each text. It is recommended to add `<image>` tokens in the very beginning of your text. For this call, we will infer how many images each text has and add special tokens.\n"
     ]
    },
    {
     "name": "stdout",
     "output_type": "stream",
     "text": [
      "layer: 16, steered: ['Video clip: 1 dog 1 cat 1 human 1 dog 1 cat 1 human 1 dog 1 cat 1 human 1 dog 1 cat 1 human 1 dog 1 cat 1 human 1 dog 1 cat 1 human 1 dog 1 cat ', '1 2 3 4 5', '1 = very dark / night-like\\n2 = dim\\n3 = moderate / typical indoor\\n4 = bright\\n5 = extremely bright (snow/sun glare, painful to look at)\\nScale:\\n1 = extremely bright (snow/sun glare, painful to look at)\\nOutput only one digit (', '5', 'Answer:'], steered_out_enforced_int_avg:3.6, strength: 0\n",
      "\n",
      "layer: 16, steered: ['5 = very bright / over-bright', '# 5', '1 = very dark / night-like', '3', '1 2 3 4 5 1'], steered_out_enforced_int_avg:2.0, strength: 1\n",
      "\n",
      "layer: 16, steered: ['average', '1 = very dark / night-like 2 = dim 3 = moderate / typical indoor 4 = bright 5 = extremely bright', '5 = bright', '1 = very dark / night-like\\n2 = dim 3 = moderate / typical indoor 4 = bright 5 = extremely bright (snow/sun glare, painful to look at)', '3 = moderate / typical indoor'], steered_out_enforced_int_avg:2.0, strength: 2\n",
      "\n",
      "layer: 16, steered: ['8', '1 = very dark / night-like\\n2 = dim 3 = moderate / typical indoor 4 = bright\\n5 = extremely bright (snow/sun glare, painful to look at)', 'answer: 3', '1 2 3 4 5', '1 = very dark / night-like'], steered_out_enforced_int_avg:2.8, strength: 5\n",
      "\n",
      "layer: 16, steered: ['4 = bright', '1 2 3 4 5', '1 = very dark / night-like 2 = dim 3 = moderate / typical indoor 4 = bright 5 = extremely bright', '1 = very dark / night-like\\n2 = dim\\n3 = moderate / typical indoor\\n4 = bright\\n5 = extremely bright (snow/sun glare, painful to look at)', '1 = very dark / night-like'], steered_out_enforced_int_avg:1.8, strength: 10\n",
      "\n",
      "layer: 16, steered: ['How bright is the scene?', '1 2 3 4 5', '1 = very dark / night-like 2 = dim 3 = moderate / typical indoor 4 = bright 5 = extremely bright (snow/sun glare, painful to look at)', '3', \"my dog thinks she's a cat\"], steered_out_enforced_int_avg:2.2, strength: 20\n",
      "\n",
      "Layer 16 | Train 1.0000 | Test 0.9100 | F1 0.9100\n",
      "layer:17\n"
     ]
    },
    {
     "name": "stderr",
     "output_type": "stream",
     "text": [
      "You are passing both `text` and `images` to `PaliGemmaProcessor`. The processor expects special image tokens in the text, as many tokens as there are images per each text. It is recommended to add `<image>` tokens in the very beginning of your text. For this call, we will infer how many images each text has and add special tokens.\n"
     ]
    },
    {
     "name": "stdout",
     "output_type": "stream",
     "text": [
      "layer: 17, steered: ['0 = dark / night-like', '3 = bright', '1 = very dark / night-like 2 = dim 3 = moderate / typical indoor 4 = bright 5 = extremely bright (snow/sun glare, painful to look at)', 'Answer: 4', 'answer: 3'], steered_out_enforced_int_avg:3.4, strength: 0\n",
      "\n",
      "layer: 17, steered: ['5 = extremely bright', '1 = very dark / night-like', '4', '(1 = very dark / night-like to 3 = moderate / typical indoor to 4 = bright to 5 = extremely bright).', 'output'], steered_out_enforced_int_avg:2.2, strength: 1\n",
      "\n",
      "layer: 17, steered: ['1 = very dark / night-like 2 = dim 3 = moderate / typical indoor 4 = bright 5 = extremely bright', '0 = very dark / night-like', '1 = very dark / night-like\\n2 = dim\\n3 = moderate / typical indoor\\n4 = bright\\n5 = extremely bright (snow/sun glare, painful to look at)\\nScale:\\n1 = very dark / night-like\\n2 = dim\\n3 = moderate / typical indoor\\n4', '#', '3'], steered_out_enforced_int_avg:2.8, strength: 2\n",
      "\n",
      "layer: 17, steered: ['1 = very dark / night-like 2 = dim 3 = moderate / typical indoor 4 = bright 5 = extremely bright (snow/sun glare, painful to look at)', '3 = moderate / typical indoor', '1 2 3 4 5', '1 = very dark / night-like 2 = dim 3 = moderate / typical indoor 4 = bright 5 = extremely bright (snow/sun glare, painful to look at)', 'answer: 3'], steered_out_enforced_int_avg:2.6, strength: 5\n",
      "\n",
      "layer: 17, steered: ['1 = very dark / night-like 2 = dim 3 = moderate / typical indoor 4 = bright 5 = extremely bright (snow/sun glare, painful to look at)', '1 = very dark / night-like', 'answer: 3', 'Click on image to enlarge', '1 = very dark / night-like 2 = dim 3 = moderate / typical indoor 4 = bright 5 = extremely bright'], steered_out_enforced_int_avg:2.0, strength: 10\n",
      "\n",
      "layer: 17, steered: ['Very dark / night-like', 'dog is', 'answer: 3', '4 = bright', '3'], steered_out_enforced_int_avg:2.4, strength: 20\n",
      "\n",
      "Layer 17 | Train 1.0000 | Test 0.8750 | F1 0.8747\n",
      "layer:18\n"
     ]
    },
    {
     "name": "stderr",
     "output_type": "stream",
     "text": [
      "You are passing both `text` and `images` to `PaliGemmaProcessor`. The processor expects special image tokens in the text, as many tokens as there are images per each text. It is recommended to add `<image>` tokens in the very beginning of your text. For this call, we will infer how many images each text has and add special tokens.\n"
     ]
    },
    {
     "name": "stdout",
     "output_type": "stream",
     "text": [
      "layer: 18, steered: ['5 = very bright', '1', '1 = very dark / night-like\\n2 = dim', '5 = extremely bright', '3'], steered_out_enforced_int_avg:3.2, strength: 0\n",
      "\n",
      "layer: 18, steered: ['5 =', '3', 'video', '1 = very dark / night-like', '1 = very dark / night-like'], steered_out_enforced_int_avg:3.4, strength: 1\n",
      "\n",
      "layer: 18, steered: ['5 = extremely bright', '2 = dim', 'answer: 4', 'answer: 1', 'answer: average'], steered_out_enforced_int_avg:2.2, strength: 2\n",
      "\n",
      "layer: 18, steered: ['answer : 3', '#3 = moderate / typical indoor', 'answer: 2', '1 = very dark / night-like 2 = dim 3 = moderate / typical indoor 4 = bright 5 = extremely bright (snow/sun glare, painful to look at)', 'I'], steered_out_enforced_int_avg:3.0, strength: 5\n",
      "\n",
      "layer: 18, steered: ['0 = dark', '4 = bright', '2 = dim', 'answer: 3', '4'], steered_out_enforced_int_avg:3.0, strength: 10\n",
      "\n",
      "layer: 18, steered: ['#', '1 = very dark / night-like', 'Output only one digit (1–5). No words, no punctuation.', '4 = bright', 'Very dark / night-like'], steered_out_enforced_int_avg:2.2, strength: 20\n",
      "\n",
      "Layer 18 | Train 1.0000 | Test 0.8050 | F1 0.8046\n",
      "layer:19\n"
     ]
    },
    {
     "name": "stderr",
     "output_type": "stream",
     "text": [
      "You are passing both `text` and `images` to `PaliGemmaProcessor`. The processor expects special image tokens in the text, as many tokens as there are images per each text. It is recommended to add `<image>` tokens in the very beginning of your text. For this call, we will infer how many images each text has and add special tokens.\n"
     ]
    },
    {
     "name": "stdout",
     "output_type": "stream",
     "text": [
      "layer: 19, steered: ['answer : 5', '4 = bright', 'average', '2 = moderate / typical indoor', 'answer: average'], steered_out_enforced_int_avg:3.8, strength: 0\n",
      "\n",
      "layer: 19, steered: ['1', '5 = very bright', '3 = moderate / typical indoor', '5', '1 = very dark / night-like 2 = dim 3 = moderate / typical indoor 4 = bright 5 = extremely bright (snow/sun glare, painful to look at)'], steered_out_enforced_int_avg:2.6, strength: 1\n",
      "\n",
      "layer: 19, steered: ['#', 'answer: 3', '1', '6 = extremely bright', '1 = very dark / night-like 2 = dim 3 = moderate / typical indoor 4 = bright 5 = extremely bright'], steered_out_enforced_int_avg:1.8, strength: 2\n",
      "\n",
      "layer: 19, steered: ['5 = Extremely bright', \"0 = so dark that it's impossible to tell the difference between the light and the darkness.\", '1 2 3 4 5 :', '1 = very dark / night-like 2 = dim 3 = moderate / typical indoor 4 = bright 5 = extremely bright (snow/sun glare, painful to look at)', 'Answer: 3'], steered_out_enforced_int_avg:3.0, strength: 5\n",
      "\n",
      "layer: 19, steered: ['bright', '5 = extremely bright', 'Answer: 3', '4', '5 = Extremely bright'], steered_out_enforced_int_avg:3.0, strength: 10\n",
      "\n",
      "layer: 19, steered: ['Answer: 1 2 3 4 5', '3 = moderate / typical indoor', '1 = very dark / night-like', '3 = moderate / typical indoor', '3'], steered_out_enforced_int_avg:3.6, strength: 20\n",
      "\n",
      "Layer 19 | Train 1.0000 | Test 0.8000 | F1 0.7998\n",
      "layer:20\n"
     ]
    },
    {
     "name": "stderr",
     "output_type": "stream",
     "text": [
      "You are passing both `text` and `images` to `PaliGemmaProcessor`. The processor expects special image tokens in the text, as many tokens as there are images per each text. It is recommended to add `<image>` tokens in the very beginning of your text. For this call, we will infer how many images each text has and add special tokens.\n"
     ]
    },
    {
     "name": "stdout",
     "output_type": "stream",
     "text": [
      "layer: 20, steered: ['Answer: 4', '2 = moderate to typical indoor', '1 = very dark / night-like', '123', '1 = very dark / night-like'], steered_out_enforced_int_avg:2.6, strength: 0\n",
      "\n",
      "layer: 20, steered: ['1 2 3 4 5', '5 = extremely bright', '5 = very bright\\n3 = moderate / typical indoor\\n2 = dim\\n1 = very dark / night-like', '3 = moderate', '0 = much brighter than a typical indoor light source'], steered_out_enforced_int_avg:2.2, strength: 1\n",
      "\n",
      "layer: 20, steered: ['1 = very dark / night-like', 'video', '3', '1 = very dark / night-like\\n2 = dim\\n3 = moderate / typical indoor\\n4 = bright\\n5 = extremely bright (snow/sun glare, painful to look at)', '1 = very dark / night-like\\n2 = dim\\n3 = moderate / typical indoor\\n4 = bright\\n5 = extremely bright (snow/sun glare, painful to look at)'], steered_out_enforced_int_avg:2.2, strength: 2\n",
      "\n",
      "layer: 20, steered: ['dog', 'I did not see any light', '1 = very dark / night-like', '2 = dim', '3 = moderate / typical indoor'], steered_out_enforced_int_avg:2.6, strength: 5\n",
      "\n",
      "layer: 20, steered: ['1=very dark / night-like\\n2 = dim\\n3 = moderate / typical indoor\\n4 = bright\\n5 = extremely bright\\nOutput only one digit (1–5)', '7', 'answer : 5', '3', '1 = very dark / night-like'], steered_out_enforced_int_avg:1.2, strength: 10\n",
      "\n",
      "layer: 20, steered: ['0 = very dark / night-like', '3 = moderate / typical indoor', '3 = moderate', '0', 'medium'], steered_out_enforced_int_avg:2.4, strength: 20\n",
      "\n",
      "Layer 20 | Train 1.0000 | Test 0.8000 | F1 0.8000\n",
      "layer:21\n"
     ]
    },
    {
     "name": "stderr",
     "output_type": "stream",
     "text": [
      "You are passing both `text` and `images` to `PaliGemmaProcessor`. The processor expects special image tokens in the text, as many tokens as there are images per each text. It is recommended to add `<image>` tokens in the very beginning of your text. For this call, we will infer how many images each text has and add special tokens.\n"
     ]
    },
    {
     "name": "stdout",
     "output_type": "stream",
     "text": [
      "layer: 21, steered: ['3', '1 = very dark / night-like 2 = dim 3 = moderate / typical indoor 4 = bright 5 = extremely bright (snow/sun glare, painful to look at)', '10 = very dark / night-like', 'answer: Very dark', '1 2 3 4 5'], steered_out_enforced_int_avg:1.8, strength: 0\n",
      "\n",
      "layer: 21, steered: ['None', 'overwhelmingly bright', '0', '3 = Moderate / typical indoor', '3 = bright'], steered_out_enforced_int_avg:2.6, strength: 1\n",
      "\n",
      "layer: 21, steered: ['2 = moderate', '2', 'answer: 1', '5.', '3'], steered_out_enforced_int_avg:2.4, strength: 2\n",
      "\n",
      "layer: 21, steered: ['1 = very dark / night-like', '5 = extremely bright', '0 = extremely dark / night-like\\n1 = dim\\n2 = moderate / typical indoor\\n3 = bright\\n4 = extremely bright (snow/sun glare, painful to look at)', '3', '1 = very dark / night-like\\n2 = dim\\n3 = moderate / typical indoor\\n4 = bright\\n5 = extremely bright (snow/sun glare, painful to look at)\\nScale: 1 = very dark / night-like\\nIf uncertain, choose 3. Output only one digit ('], steered_out_enforced_int_avg:2.8, strength: 5\n",
      "\n",
      "layer: 21, steered: ['Answer: 2', 'answer: average', '3 = moderate / typical indoor', '1 = very dark / night-like', '3'], steered_out_enforced_int_avg:1.8, strength: 10\n",
      "\n",
      "layer: 21, steered: ['a', 'average lighting', 'answer: 3', '3 = moderate / typical indoor', 'output: 2'], steered_out_enforced_int_avg:2.2, strength: 20\n",
      "\n",
      "Layer 21 | Train 1.0000 | Test 0.7800 | F1 0.7798\n",
      "layer:22\n"
     ]
    },
    {
     "name": "stderr",
     "output_type": "stream",
     "text": [
      "You are passing both `text` and `images` to `PaliGemmaProcessor`. The processor expects special image tokens in the text, as many tokens as there are images per each text. It is recommended to add `<image>` tokens in the very beginning of your text. For this call, we will infer how many images each text has and add special tokens.\n"
     ]
    },
    {
     "name": "stdout",
     "output_type": "stream",
     "text": [
      "layer: 22, steered: ['answer: 3', '1 = very dark / night-like', 'Answer: 3', '1 = very dark / night-like', '1 = very dark / night-like\\n2 = dim\\n3 = moderate / typical indoor\\n4 = bright\\n5 = extremely bright (snow/sun glare, painful to look at)'], steered_out_enforced_int_avg:2.6, strength: 0\n",
      "\n",
      "layer: 22, steered: ['Very dark', '1 = very dark / night-like', '3', '1 = very dark / night-like \\n2 = dim 3 = moderate / typical indoor 4 = bright 5 = extremely bright', 'answer: 2'], steered_out_enforced_int_avg:2.6, strength: 1\n",
      "\n",
      "layer: 22, steered: ['5', '4 = bright', '1 = very dark / night-like', 'answer: 3', 'output: 3'], steered_out_enforced_int_avg:2.6, strength: 2\n",
      "\n",
      "layer: 22, steered: ['1 = very dark / night-like', '1 = very dark / night-like', '5 = extremely bright', 'Question: Is the scene bright or dark?', '2 = moderate'], steered_out_enforced_int_avg:2.6, strength: 5\n",
      "\n",
      "layer: 22, steered: ['1 = very dark / night-like\\n2 = dim\\n3 = moderate / typical indoor\\n4 = bright\\n5 = extremely bright (snow/sun glare, painful to look at)', '3 = moderate / typical indoor', '1 = very dark / night-like', '1 = very dark / night-like', 'answer: 3'], steered_out_enforced_int_avg:2.2, strength: 10\n",
      "\n",
      "layer: 22, steered: ['4 = bright', 'Question: How bright is the overall scene?', '0', '4', '3 = bright'], steered_out_enforced_int_avg:2.0, strength: 20\n",
      "\n",
      "Layer 22 | Train 1.0000 | Test 0.7800 | F1 0.7800\n",
      "layer:23\n"
     ]
    },
    {
     "name": "stderr",
     "output_type": "stream",
     "text": [
      "You are passing both `text` and `images` to `PaliGemmaProcessor`. The processor expects special image tokens in the text, as many tokens as there are images per each text. It is recommended to add `<image>` tokens in the very beginning of your text. For this call, we will infer how many images each text has and add special tokens.\n"
     ]
    },
    {
     "name": "stdout",
     "output_type": "stream",
     "text": [
      "layer: 23, steered: ['1 = very dark / night-like 2 = dim 3 = moderate / typical indoor 4 = bright 5 = extremely bright (snow/sun glare, painful to look at)\\nScale:', '1', '1', '2 = moderate / typical indoor', '1 = very dark / night-like 2 = dim 3 = moderate / typical indoor 4 = bright 5 = extremely bright'], steered_out_enforced_int_avg:2.6, strength: 0\n",
      "\n",
      "layer: 23, steered: ['3', '2 = average', '1 = very dark / night-like', '1 = very dark / night-like 2 = dim 3 = moderate / typical indoor 4 = bright 5 = extremely bright (if not for the dog)', 'answer: 3'], steered_out_enforced_int_avg:1.6, strength: 1\n",
      "\n",
      "layer: 23, steered: ['5', '1 = very dark / night-like', '1 2 3 4 5', '(1 = very dark / night-like)', '1 = very dark / night-like 2 = dim 3 = moderate / typical indoor 4 = bright 5 = extremely bright'], steered_out_enforced_int_avg:2.6, strength: 2\n",
      "\n",
      "layer: 23, steered: ['light', 'answer : 3', '1 = very dark / night-like', '3', 'Output only one digit (1–5).'], steered_out_enforced_int_avg:2.8, strength: 5\n",
      "\n",
      "layer: 23, steered: ['1: very dark / night-like', '1 = very dark / night-like 2 = dim 3 = moderate / typical indoor 4 = bright 5 = extremely bright (snow/sun glare, painful to look at)', '1 = very dark / night-like\\n2 = dim\\n3 = moderate / typical indoor 4 = bright 5 = extremely bright', 'Output only one digit (1–5). No words, no punctuation.', '0'], steered_out_enforced_int_avg:1.6, strength: 10\n",
      "\n",
      "layer: 23, steered: ['0 = very much less than normal\\n1 = slightly more than normal\\n2 = normal\\n3 = slightly more than normal\\n4 = much more than normal\\n5 = extremely bright', '4 = bright', 'Answer: 3', 'Number of light sources and specular', '1 = very dark / night-like\\n2 = dim\\n3 = moderate / typical indoor\\n4 = bright\\n5 = extremely bright (snow/sun glare, painful to look at)'], steered_out_enforced_int_avg:1.8, strength: 20\n",
      "\n",
      "Layer 23 | Train 1.0000 | Test 0.7750 | F1 0.7749\n",
      "layer:24\n"
     ]
    },
    {
     "name": "stderr",
     "output_type": "stream",
     "text": [
      "You are passing both `text` and `images` to `PaliGemmaProcessor`. The processor expects special image tokens in the text, as many tokens as there are images per each text. It is recommended to add `<image>` tokens in the very beginning of your text. For this call, we will infer how many images each text has and add special tokens.\n"
     ]
    },
    {
     "name": "stdout",
     "output_type": "stream",
     "text": [
      "layer: 24, steered: ['Answer: 3', '1=very dark / night-like', '1 = very dark / night-like\\n2 = dim\\n3 = moderate / typical indoor\\n4 = bright\\n5 = extremely bright (snow/sun glare, painful to look at)', '1 = very dark / night-like', '5 = extremely bright'], steered_out_enforced_int_avg:3.2, strength: 0\n",
      "\n",
      "layer: 24, steered: ['Answer: 3', 'answer: 3', 'answer: 2', '2', '1 = very dark / night-like 2 = dim 3 = moderate / typical indoor 4 = bright 5 = extremely bright (snow/sun glare, painful to look at)'], steered_out_enforced_int_avg:2.4, strength: 1\n",
      "\n",
      "layer: 24, steered: ['very dark / night-like is', '1: very dark / night-like\\n2: dim\\n3: moderate / typical indoor\\n4: bright\\n5: extremely bright (snow/sun glare, painful to look at)\\nScale: 1 = very dark / night-like\\n2 = dim\\n3: moderate / typical indoor\\n4', '2', '3 = moderate / typical indoor', 'I'], steered_out_enforced_int_avg:2.2, strength: 2\n",
      "\n",
      "layer: 24, steered: ['1 = very dark / night-like', 'bright', '3 = moderate / typical indoor', '1 2 3 4 5', 'Question: What is the scene brightness?'], steered_out_enforced_int_avg:1.4, strength: 5\n",
      "\n",
      "layer: 24, steered: ['average', '1 = very dark / night-like', 'What are the light sources?', '9', 'Question: How bright is the scene?'], steered_out_enforced_int_avg:4.0, strength: 10\n",
      "\n",
      "layer: 24, steered: ['4', 'answer : 3', 'answer: 3', '1', 'average'], steered_out_enforced_int_avg:1.0, strength: 20\n",
      "\n",
      "Layer 24 | Train 1.0000 | Test 0.7750 | F1 0.7749\n",
      "layer:25\n"
     ]
    },
    {
     "name": "stderr",
     "output_type": "stream",
     "text": [
      "You are passing both `text` and `images` to `PaliGemmaProcessor`. The processor expects special image tokens in the text, as many tokens as there are images per each text. It is recommended to add `<image>` tokens in the very beginning of your text. For this call, we will infer how many images each text has and add special tokens.\n"
     ]
    },
    {
     "name": "stdout",
     "output_type": "stream",
     "text": [
      "layer: 25, steered: ['average', '3 = average indoor', '5 = Extremely bright', 'Yes', 'How bright is the room?'], steered_out_enforced_int_avg:2.4, strength: 0\n",
      "\n",
      "layer: 25, steered: ['3 = bright', '5 = bright', '1 = very dark / night-like', '1 = Very dark / night-like', 'Answer: 4'], steered_out_enforced_int_avg:2.2, strength: 1\n",
      "\n",
      "layer: 25, steered: ['1 = very dark / night-like\\n2 = dim\\n3 = moderate / typical indoor\\n4 = bright\\n5 = extremely bright (snow/sun glare, painful to look at)', '1 - 5', '5 = extremely bright', '(1-5)', '1 2 3 4 5'], steered_out_enforced_int_avg:1.8, strength: 2\n",
      "\n",
      "layer: 25, steered: ['1 3 5', '3 = moderate / typical indoor', '0 = very dark / night-like\\n1 = dim\\n2 = moderate / typical indoor\\n3 = bright\\n4 = extremely bright (snow/sun glare, painful to look at)\\nOutput only one digit (1–5). No words, no punctuation.', '3', '1 = very dark / night-like\\n2 = dim\\n3 = moderate / typical indoor\\n4 = bright\\n5 = extremely bright (snow/sun glare, painful to look at)\\nScale:'], steered_out_enforced_int_avg:2.6, strength: 5\n",
      "\n",
      "layer: 25, steered: ['1 = very dark / night-like', 'Output only one digit of the number (1–5).\\nNo words, no punctuation.', 'Very bright', '0 = extremely dark / night-like', '1 = very dark'], steered_out_enforced_int_avg:1.6, strength: 10\n",
      "\n",
      "layer: 25, steered: ['4', 'Medium', 'answer: 3', '5 = extremely bright', 'answer: 2'], steered_out_enforced_int_avg:1.8, strength: 20\n",
      "\n",
      "Layer 25 | Train 1.0000 | Test 0.7750 | F1 0.7750\n",
      "layer:26\n"
     ]
    },
    {
     "name": "stderr",
     "output_type": "stream",
     "text": [
      "You are passing both `text` and `images` to `PaliGemmaProcessor`. The processor expects special image tokens in the text, as many tokens as there are images per each text. It is recommended to add `<image>` tokens in the very beginning of your text. For this call, we will infer how many images each text has and add special tokens.\n"
     ]
    },
    {
     "name": "stdout",
     "output_type": "stream",
     "text": [
      "Layer 26 | Train 1.0000 | Test 0.7200 | F1 0.7197\n",
      "Saved results -> ../figs_tabs/brightness_probe_pairwise_[0.5, 1.5]/results.csv\n",
      "Saved plot -> ../figs_tabs/brightness_probe_pairwise_[0.5, 1.5]/accuracy_f1_curve.png\n"
     ]
    }
   ],
   "source": [
    "# %% [markdown]\n",
    "# ## 5. Pairwise-Controlled Probing for Brightness\n",
    "# Split by base_id (group), extract activations for each variant, and run a linear probe per layer.\n",
    "\n",
    "import pandas as pd\n",
    "from sklearn.linear_model import LogisticRegression\n",
    "from sklearn.metrics import accuracy_score, f1_score\n",
    "from sklearn.model_selection import train_test_split\n",
    "import matplotlib.pyplot as plt\n",
    "STRENGTH = 1\n",
    "\n",
    "# df = pd.read_csv(OUT_CSV)  # columns: base_id, variant_path, label, caption, ...\n",
    "#################################### computation saver ####################################\n",
    "# import pandas as pd\n",
    "# import numpy as np\n",
    "\n",
    "# # Get unique base_ids\n",
    "# unique_base_ids = df['base_id'].unique()\n",
    "\n",
    "# # Sample 100 unique base_ids\n",
    "# np.random.seed(42)  # For reproducibility - remove if you want different results each time\n",
    "# sampled_base_ids = np.random.choice(unique_base_ids, size=100, replace=False)\n",
    "\n",
    "# # Filter the dataframe to include only rows with the sampled base_ids\n",
    "# sampled_df = df[df['base_id'].isin(sampled_base_ids)].copy()\n",
    "\n",
    "# # Sort by base_id to keep pairs together (optional but nice for viewing)\n",
    "# sampled_df = sampled_df.sort_values('base_id').reset_index(drop=True)\n",
    "\n",
    "# print(f\"Original dataset: {len(df)} rows with {len(unique_base_ids)} unique base_ids\")\n",
    "# print(f\"Sampled dataset: {len(sampled_df)} rows with {len(sampled_df['base_id'].unique())} unique base_ids\")\n",
    "# print(f\"Each base_id should have exactly 2 entries: {sampled_df['base_id'].value_counts().unique()}\")\n",
    "# df = sampled_df\n",
    "#################################### computation saver ####################################\n",
    "\n",
    "# group-wise split on base_id (prevents identity leakage)\n",
    "unique_ids = sorted(df['base_id'].unique())\n",
    "train_ids, test_ids = train_test_split(unique_ids, test_size=0.2, random_state=SEED)\n",
    "\n",
    "df_tr = df[df['base_id'].isin(train_ids)].reset_index(drop=True)\n",
    "df_te = df[df['base_id'].isin(test_ids)].reset_index(drop=True)\n",
    "\n",
    "print(f\"Train groups: {len(train_ids)}, Test groups: {len(test_ids)}\")\n",
    "print(f\"Train rows: {len(df_tr)}, Test rows: {len(df_te)}\")\n",
    "\n",
    "# extract (images only for brightness), LM space (so D=1152), mean-pool tokens per sample\n",
    "with torch.inference_mode():\n",
    "    img_layers_tr = get_acts_paligemma(\n",
    "        model, device, filenames=df_tr['variant_path'].tolist(),\n",
    "        mode=MODE, pad_to_max=None\n",
    "    )\n",
    "    img_layers_te = get_acts_paligemma(\n",
    "        model, device, filenames=df_te['variant_path'].tolist(),\n",
    "        mode=MODE, pad_to_max=None\n",
    "    )\n",
    "\n",
    "n_layers = len(img_layers_tr)\n",
    "layer_ix = list(range(n_layers))\n",
    "\n",
    "all_rows = []\n",
    "for layer in layer_ix: # only 0-25 are usable with PaliGemmaConditionalGeneration\n",
    "    print(f\"layer:{layer}\") \n",
    "    X_tr = img_layers_tr[layer].mean(axis=1)  # [N_train, D]\n",
    "    y_tr = df_tr['label'].to_numpy()\n",
    "    X_te = img_layers_te[layer].mean(axis=1)  # [N_test, D]\n",
    "    y_te = df_te['label'].to_numpy()\n",
    "\n",
    "    clf = LogisticRegression(max_iter=1000, random_state=SEED).fit(X_tr, y_tr)\n",
    "    yhat_tr = clf.predict(X_tr)\n",
    "    yhat_te = clf.predict(X_te)\n",
    "\n",
    "    tr_acc = accuracy_score(y_tr, yhat_tr)\n",
    "    te_acc = accuracy_score(y_te, yhat_te)\n",
    "    te_f1  = f1_score(y_te, yhat_te, average=\"macro\")\n",
    "    \n",
    "    ################################### steering with weights of the linear layer of the probe of this layer of PaliGemma ########################\n",
    "    W = torch.tensor(clf.coef_.ravel(), dtype=torch.float32) # 2304\n",
    "#     W = W.view(1, 1, -1) # (1, 1, d_hidden)\n",
    "    b = clf.intercept_.copy()\n",
    "#     print(W)\n",
    "#     print(W.shape)\n",
    "#     print(b)\n",
    "#     print(b.shape)\n",
    "    # Test steering on a neutral text prompt\n",
    "#     test_prompt = \"Answer bright or dark. Sam looks out of the window - The sky is\"\n",
    "#     inputs = tokenizer(test_prompt, return_tensors=\"pt\").to(device)\n",
    "#     orig_out = model.generate(**inputs, max_new_tokens=64, do_sample=True, temperature=0.7)\n",
    "    # Let's test on an answerin task on PaliGemma 2\n",
    "    if not STEER_ON_TEXT_ONLY:\n",
    "        inputs = processor(\n",
    "            text=ans_prompt,               # or just cap_prompt if single\n",
    "            images=one_original_img,       # All testing on the same image\n",
    "            return_tensors=\"pt\"\n",
    "        ).to(device)\n",
    "    else:\n",
    "        inputs = tokenizer(\n",
    "            text=text_prompt,               # or just cap_prompt if single\n",
    "            return_tensors=\"pt\"\n",
    "        ).to(device)\n",
    "\n",
    "    # 2) Generate\n",
    "    with torch.no_grad():\n",
    "        outputs = model.generate(\n",
    "            **inputs,\n",
    "            max_new_tokens=64,\n",
    "            do_sample=True,\n",
    "            temperature=0.4\n",
    "        )\n",
    "    \n",
    "    time_factors = [0, 1, 2, 5, 10, 20]\n",
    "    steered_for_this_layer = {'prompt':ans_prompt}\n",
    "    # TODO: get the generation starting position\n",
    "    seq_len_ans_prompt = len(tokenizer(ans_prompt))\n",
    "#     steered_outs = {}\n",
    "    if layer < 26:\n",
    "        for time_factor in time_factors:\n",
    "            steered_out_list, steered_out_int_sum = [], 0\n",
    "            for _ in range(STEERTING_REPETITION):\n",
    "                steered_out_int, steered_out = apply_steering(model = model, inputs = inputs, tok = tokenizer, steering_vec=W, layer_idx=layer, strength=STRENGTH*time_factor, digit_tokens=list(\"12345\"))\n",
    "#               steered_out_int, steered_out = apply_steering(model, inputs, W, layer_idx=layer, strength=STRENGTH*time_factor)\n",
    "                steered_out_int_sum += int(steered_out_int)\n",
    "                steered_out_list.append(steered_out)\n",
    "            steered_out_int_avg = steered_out_int_sum/STEERTING_REPETITION\n",
    "            steered_for_this_layer.update({f'steered_outs_list_{STRENGTH*time_factor}':steered_out_list, f'steered_out_enforced_int_avg{STRENGTH*time_factor}':steered_out_int_avg})\n",
    "            print(f\"layer: {layer}, steered: {steered_out_list}, steered_out_enforced_int_avg:{steered_out_int_avg}, strength: {STRENGTH*time_factor}\\n\")\n",
    "    else:\n",
    "        for time_factor in time_factors:\n",
    "            steered_for_this_layer.update({f'steered_outs_{STRENGTH*time_factor}':'N/A', f'steered_out_enforced_int_{STRENGTH*time_factor}':steered_out_int})\n",
    "#     hooks = [] # Where I want to hook, MLP, residual, etc.\n",
    "    ################################# steering with weights of the linear layer of the probe of this layer of PaliGemma ########################\n",
    "\n",
    "    print(f\"Layer {layer:2d} | Train {tr_acc:.4f} | Test {te_acc:.4f} | F1 {te_f1:.4f}\")\n",
    "    this_row = {\"layer\": layer, \"train_acc\": tr_acc, \"test_acc\": te_acc, \"test_f1\": te_f1}\n",
    "    this_row.update(steered_for_this_layer)\n",
    "    all_rows.append(this_row)\n",
    "\n",
    "\n",
    "# Save results and plot\n",
    "res_df = pd.DataFrame(all_rows)\n",
    "res_csv = str(Path(OUTPUT_DIR) / \"results.csv\")\n",
    "res_plot = str(Path(OUTPUT_DIR) / \"accuracy_f1_curve.png\")\n",
    "res_df.to_csv(res_csv, index=False)\n",
    "\n",
    "plt.figure(figsize=(9,5))\n",
    "plt.plot(res_df[\"layer\"], res_df[\"train_acc\"], label=\"Train Acc\")\n",
    "plt.plot(res_df[\"layer\"], res_df[\"test_acc\"],  label=\"Test Acc\")\n",
    "plt.plot(res_df[\"layer\"], res_df[\"test_f1\"],   label=\"Test F1\", linestyle=\"--\", marker=\"o\")\n",
    "# highlight layer 0\n",
    "# if 0 in res_df[\"layer\"].values:\n",
    "#     i0 = res_df.index[res_df[\"layer\"]==0][0]\n",
    "#     plt.scatter([0], [res_df.loc[i0, \"test_acc\"]], s=60, edgecolors=\"k\", label=\"Layer 0 (Test Acc)\")\n",
    "plt.xlabel(\"Layer\"); plt.ylabel(\"Score\"); plt.title(\"Brightness Probe (Pairwise-Controlled)\")\n",
    "plt.legend(); plt.grid(True)\n",
    "plt.savefig(res_plot, dpi=150); plt.close()\n",
    "\n",
    "print(f\"Saved results -> {res_csv}\\nSaved plot -> {res_plot}\")"
   ]
  },
  {
   "cell_type": "code",
   "execution_count": null,
   "id": "8d52afc1",
   "metadata": {
    "ExecuteTime": {
     "end_time": "2025-09-16T22:26:32.723142Z",
     "start_time": "2025-09-16T22:26:32.723134Z"
    }
   },
   "outputs": [],
   "source": [
    "res_df"
   ]
  },
  {
   "cell_type": "code",
   "execution_count": null,
   "id": "8c8cba71",
   "metadata": {
    "ExecuteTime": {
     "end_time": "2025-09-16T22:26:32.723909Z",
     "start_time": "2025-09-16T22:26:32.723901Z"
    }
   },
   "outputs": [],
   "source": [
    "# 1) Make sure you're actually on PaliGemma 2 artifacts:\n",
    "print(model.__class__.__name__)                       # PaliGemmaForConditionalGeneration\n",
    "print(type(model.language_model).__name__)                # Gemma2ForCausalLM\n",
    "print(model.config.text_config.model_type)            # 'gemma2'\n",
    "\n",
    "# 2) Shapes that betray Gemma 2:\n",
    "print(model.text_model.model.embed_tokens.weight.shape)  # [~256k, 2304]\n"
   ]
  },
  {
   "cell_type": "code",
   "execution_count": null,
   "id": "a841bf6f",
   "metadata": {
    "ExecuteTime": {
     "end_time": "2025-09-16T22:26:32.724739Z",
     "start_time": "2025-09-16T22:26:32.724730Z"
    }
   },
   "outputs": [],
   "source": [
    "# Weird enough, when using PaliGemmaForConditionalGeneration, the d_hidden is 2048 instead of 2504 for language_model\n",
    "# Because that's a Gemma instead of Gemma2! see model printdown"
   ]
  },
  {
   "cell_type": "code",
   "execution_count": null,
   "id": "0c7c4207",
   "metadata": {
    "ExecuteTime": {
     "end_time": "2025-09-16T22:26:32.726079Z",
     "start_time": "2025-09-16T22:26:32.726072Z"
    }
   },
   "outputs": [],
   "source": [
    "res_df = pd.read_csv(res_csv)\n",
    "res_df.steered_out_2 = res_df.steered_out_2.apply(lambda x:tokenizer.decode(eval(x)[0])).tolist()\n",
    "res_df.steered_out_4 = res_df.steered_out_4.apply(lambda x:tokenizer.decode(eval(x)[0])).tolist()\n",
    "# res_df['steered_out_2'].tolist(), res_df['steered_out_4'].tolist(), res_df['steered_out_2'] == res_df['steered_out_4']"
   ]
  },
  {
   "cell_type": "code",
   "execution_count": null,
   "id": "4b5997b6",
   "metadata": {
    "ExecuteTime": {
     "end_time": "2025-09-16T22:26:32.726813Z",
     "start_time": "2025-09-16T22:26:32.726806Z"
    }
   },
   "outputs": [],
   "source": [
    "X_tr.shape"
   ]
  },
  {
   "cell_type": "code",
   "execution_count": null,
   "id": "8f19b20d",
   "metadata": {
    "ExecuteTime": {
     "end_time": "2025-09-16T22:26:32.727641Z",
     "start_time": "2025-09-16T22:26:32.727633Z"
    }
   },
   "outputs": [],
   "source": [
    "img_layers_tr[0].shape"
   ]
  },
  {
   "cell_type": "code",
   "execution_count": null,
   "id": "cdab2896",
   "metadata": {
    "ExecuteTime": {
     "end_time": "2025-09-16T22:26:32.728744Z",
     "start_time": "2025-09-16T22:26:32.728736Z"
    }
   },
   "outputs": [],
   "source": [
    "model"
   ]
  },
  {
   "cell_type": "code",
   "execution_count": null,
   "id": "01494f2e",
   "metadata": {},
   "outputs": [],
   "source": []
  }
 ],
 "metadata": {
  "kernelspec": {
   "display_name": "Python py311",
   "language": "python",
   "name": "py311"
  },
  "language_info": {
   "codemirror_mode": {
    "name": "ipython",
    "version": 3
   },
   "file_extension": ".py",
   "mimetype": "text/x-python",
   "name": "python",
   "nbconvert_exporter": "python",
   "pygments_lexer": "ipython3",
   "version": "3.11.13"
  },
  "toc": {
   "base_numbering": 1,
   "nav_menu": {},
   "number_sections": true,
   "sideBar": true,
   "skip_h1_title": false,
   "title_cell": "Table of Contents",
   "title_sidebar": "Contents",
   "toc_cell": false,
   "toc_position": {},
   "toc_section_display": true,
   "toc_window_display": false
  },
  "varInspector": {
   "cols": {
    "lenName": 16,
    "lenType": 16,
    "lenVar": 40
   },
   "kernels_config": {
    "python": {
     "delete_cmd_postfix": "",
     "delete_cmd_prefix": "del ",
     "library": "var_list.py",
     "varRefreshCmd": "print(var_dic_list())"
    },
    "r": {
     "delete_cmd_postfix": ") ",
     "delete_cmd_prefix": "rm(",
     "library": "var_list.r",
     "varRefreshCmd": "cat(var_dic_list()) "
    }
   },
   "types_to_exclude": [
    "module",
    "function",
    "builtin_function_or_method",
    "instance",
    "_Feature"
   ],
   "window_display": false
  }
 },
 "nbformat": 4,
 "nbformat_minor": 5
}
